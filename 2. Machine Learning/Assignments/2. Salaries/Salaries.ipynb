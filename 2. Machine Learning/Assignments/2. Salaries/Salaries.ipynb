{
 "cells": [
  {
   "cell_type": "code",
   "execution_count": 118,
   "metadata": {},
   "outputs": [],
   "source": [
    "import pandas as pd\n",
    "import matplotlib.pyplot as plt\n",
    "import numpy as np"
   ]
  },
  {
   "cell_type": "code",
   "execution_count": 48,
   "metadata": {},
   "outputs": [
    {
     "name": "stderr",
     "output_type": "stream",
     "text": [
      "C:\\Users\\Admin\\AppData\\Local\\Temp\\ipykernel_7008\\4126711970.py:1: DtypeWarning: Columns (12) have mixed types. Specify dtype option on import or set low_memory=False.\n",
      "  Salaries_df = pd.read_csv(\"D:\\\\Academics\\\\AI\\\\Simplilearn\\\\Course 3 - Machine Learning\\\\Self Learning\\\\Lesson 3\\\\Salaries\\\\Salaries.csv\")\n"
     ]
    }
   ],
   "source": [
    "Salaries_df = pd.read_csv(\"D:\\\\Academics\\\\AI\\\\Simplilearn\\\\Course 3 - Machine Learning\\\\Self Learning\\\\Lesson 3\\\\Salaries\\\\Salaries.csv\")"
   ]
  },
  {
   "cell_type": "code",
   "execution_count": 49,
   "metadata": {},
   "outputs": [
    {
     "data": {
      "text/html": [
       "<div>\n",
       "<style scoped>\n",
       "    .dataframe tbody tr th:only-of-type {\n",
       "        vertical-align: middle;\n",
       "    }\n",
       "\n",
       "    .dataframe tbody tr th {\n",
       "        vertical-align: top;\n",
       "    }\n",
       "\n",
       "    .dataframe thead th {\n",
       "        text-align: right;\n",
       "    }\n",
       "</style>\n",
       "<table border=\"1\" class=\"dataframe\">\n",
       "  <thead>\n",
       "    <tr style=\"text-align: right;\">\n",
       "      <th></th>\n",
       "      <th>Id</th>\n",
       "      <th>EmployeeName</th>\n",
       "      <th>JobTitle</th>\n",
       "      <th>BasePay</th>\n",
       "      <th>OvertimePay</th>\n",
       "      <th>OtherPay</th>\n",
       "      <th>Benefits</th>\n",
       "      <th>TotalPay</th>\n",
       "      <th>TotalPayBenefits</th>\n",
       "      <th>Year</th>\n",
       "      <th>Notes</th>\n",
       "      <th>Agency</th>\n",
       "      <th>Status</th>\n",
       "    </tr>\n",
       "  </thead>\n",
       "  <tbody>\n",
       "    <tr>\n",
       "      <th>0</th>\n",
       "      <td>1</td>\n",
       "      <td>NATHANIEL FORD</td>\n",
       "      <td>GENERAL MANAGER-METROPOLITAN TRANSIT AUTHORITY</td>\n",
       "      <td>167411.18</td>\n",
       "      <td>0.00</td>\n",
       "      <td>400184.25</td>\n",
       "      <td>NaN</td>\n",
       "      <td>567595.43</td>\n",
       "      <td>567595.43</td>\n",
       "      <td>2011</td>\n",
       "      <td>NaN</td>\n",
       "      <td>San Francisco</td>\n",
       "      <td>NaN</td>\n",
       "    </tr>\n",
       "    <tr>\n",
       "      <th>1</th>\n",
       "      <td>2</td>\n",
       "      <td>GARY JIMENEZ</td>\n",
       "      <td>CAPTAIN III (POLICE DEPARTMENT)</td>\n",
       "      <td>155966.02</td>\n",
       "      <td>245131.88</td>\n",
       "      <td>137811.38</td>\n",
       "      <td>NaN</td>\n",
       "      <td>538909.28</td>\n",
       "      <td>538909.28</td>\n",
       "      <td>2011</td>\n",
       "      <td>NaN</td>\n",
       "      <td>San Francisco</td>\n",
       "      <td>NaN</td>\n",
       "    </tr>\n",
       "    <tr>\n",
       "      <th>2</th>\n",
       "      <td>3</td>\n",
       "      <td>ALBERT PARDINI</td>\n",
       "      <td>CAPTAIN III (POLICE DEPARTMENT)</td>\n",
       "      <td>212739.13</td>\n",
       "      <td>106088.18</td>\n",
       "      <td>16452.60</td>\n",
       "      <td>NaN</td>\n",
       "      <td>335279.91</td>\n",
       "      <td>335279.91</td>\n",
       "      <td>2011</td>\n",
       "      <td>NaN</td>\n",
       "      <td>San Francisco</td>\n",
       "      <td>NaN</td>\n",
       "    </tr>\n",
       "    <tr>\n",
       "      <th>3</th>\n",
       "      <td>4</td>\n",
       "      <td>CHRISTOPHER CHONG</td>\n",
       "      <td>WIRE ROPE CABLE MAINTENANCE MECHANIC</td>\n",
       "      <td>77916.00</td>\n",
       "      <td>56120.71</td>\n",
       "      <td>198306.90</td>\n",
       "      <td>NaN</td>\n",
       "      <td>332343.61</td>\n",
       "      <td>332343.61</td>\n",
       "      <td>2011</td>\n",
       "      <td>NaN</td>\n",
       "      <td>San Francisco</td>\n",
       "      <td>NaN</td>\n",
       "    </tr>\n",
       "    <tr>\n",
       "      <th>4</th>\n",
       "      <td>5</td>\n",
       "      <td>PATRICK GARDNER</td>\n",
       "      <td>DEPUTY CHIEF OF DEPARTMENT,(FIRE DEPARTMENT)</td>\n",
       "      <td>134401.60</td>\n",
       "      <td>9737.00</td>\n",
       "      <td>182234.59</td>\n",
       "      <td>NaN</td>\n",
       "      <td>326373.19</td>\n",
       "      <td>326373.19</td>\n",
       "      <td>2011</td>\n",
       "      <td>NaN</td>\n",
       "      <td>San Francisco</td>\n",
       "      <td>NaN</td>\n",
       "    </tr>\n",
       "    <tr>\n",
       "      <th>...</th>\n",
       "      <td>...</td>\n",
       "      <td>...</td>\n",
       "      <td>...</td>\n",
       "      <td>...</td>\n",
       "      <td>...</td>\n",
       "      <td>...</td>\n",
       "      <td>...</td>\n",
       "      <td>...</td>\n",
       "      <td>...</td>\n",
       "      <td>...</td>\n",
       "      <td>...</td>\n",
       "      <td>...</td>\n",
       "      <td>...</td>\n",
       "    </tr>\n",
       "    <tr>\n",
       "      <th>148643</th>\n",
       "      <td>148646</td>\n",
       "      <td>Carolyn A Wilson</td>\n",
       "      <td>Human Services Technician</td>\n",
       "      <td>0.00</td>\n",
       "      <td>0.00</td>\n",
       "      <td>0.00</td>\n",
       "      <td>0.0</td>\n",
       "      <td>0.00</td>\n",
       "      <td>0.00</td>\n",
       "      <td>2014</td>\n",
       "      <td>NaN</td>\n",
       "      <td>San Francisco</td>\n",
       "      <td>PT</td>\n",
       "    </tr>\n",
       "    <tr>\n",
       "      <th>148644</th>\n",
       "      <td>148648</td>\n",
       "      <td>Joann Anderson</td>\n",
       "      <td>Communications Dispatcher 2</td>\n",
       "      <td>0.00</td>\n",
       "      <td>0.00</td>\n",
       "      <td>0.00</td>\n",
       "      <td>0.0</td>\n",
       "      <td>0.00</td>\n",
       "      <td>0.00</td>\n",
       "      <td>2014</td>\n",
       "      <td>NaN</td>\n",
       "      <td>San Francisco</td>\n",
       "      <td>PT</td>\n",
       "    </tr>\n",
       "    <tr>\n",
       "      <th>148645</th>\n",
       "      <td>148649</td>\n",
       "      <td>Leon Walker</td>\n",
       "      <td>Custodian</td>\n",
       "      <td>0.00</td>\n",
       "      <td>0.00</td>\n",
       "      <td>0.00</td>\n",
       "      <td>0.0</td>\n",
       "      <td>0.00</td>\n",
       "      <td>0.00</td>\n",
       "      <td>2014</td>\n",
       "      <td>NaN</td>\n",
       "      <td>San Francisco</td>\n",
       "      <td>PT</td>\n",
       "    </tr>\n",
       "    <tr>\n",
       "      <th>148646</th>\n",
       "      <td>148650</td>\n",
       "      <td>Roy I Tillery</td>\n",
       "      <td>Custodian</td>\n",
       "      <td>0.00</td>\n",
       "      <td>0.00</td>\n",
       "      <td>0.00</td>\n",
       "      <td>0.0</td>\n",
       "      <td>0.00</td>\n",
       "      <td>0.00</td>\n",
       "      <td>2014</td>\n",
       "      <td>NaN</td>\n",
       "      <td>San Francisco</td>\n",
       "      <td>PT</td>\n",
       "    </tr>\n",
       "    <tr>\n",
       "      <th>148647</th>\n",
       "      <td>148654</td>\n",
       "      <td>Joe Lopez</td>\n",
       "      <td>Counselor, Log Cabin Ranch</td>\n",
       "      <td>0.00</td>\n",
       "      <td>0.00</td>\n",
       "      <td>-618.13</td>\n",
       "      <td>0.0</td>\n",
       "      <td>-618.13</td>\n",
       "      <td>-618.13</td>\n",
       "      <td>2014</td>\n",
       "      <td>NaN</td>\n",
       "      <td>San Francisco</td>\n",
       "      <td>PT</td>\n",
       "    </tr>\n",
       "  </tbody>\n",
       "</table>\n",
       "<p>148648 rows × 13 columns</p>\n",
       "</div>"
      ],
      "text/plain": [
       "            Id       EmployeeName  \\\n",
       "0            1     NATHANIEL FORD   \n",
       "1            2       GARY JIMENEZ   \n",
       "2            3     ALBERT PARDINI   \n",
       "3            4  CHRISTOPHER CHONG   \n",
       "4            5    PATRICK GARDNER   \n",
       "...        ...                ...   \n",
       "148643  148646   Carolyn A Wilson   \n",
       "148644  148648     Joann Anderson   \n",
       "148645  148649        Leon Walker   \n",
       "148646  148650      Roy I Tillery   \n",
       "148647  148654          Joe Lopez   \n",
       "\n",
       "                                              JobTitle    BasePay  \\\n",
       "0       GENERAL MANAGER-METROPOLITAN TRANSIT AUTHORITY  167411.18   \n",
       "1                      CAPTAIN III (POLICE DEPARTMENT)  155966.02   \n",
       "2                      CAPTAIN III (POLICE DEPARTMENT)  212739.13   \n",
       "3                 WIRE ROPE CABLE MAINTENANCE MECHANIC   77916.00   \n",
       "4         DEPUTY CHIEF OF DEPARTMENT,(FIRE DEPARTMENT)  134401.60   \n",
       "...                                                ...        ...   \n",
       "148643                       Human Services Technician       0.00   \n",
       "148644                     Communications Dispatcher 2       0.00   \n",
       "148645                                       Custodian       0.00   \n",
       "148646                                       Custodian       0.00   \n",
       "148647                      Counselor, Log Cabin Ranch       0.00   \n",
       "\n",
       "        OvertimePay   OtherPay  Benefits   TotalPay  TotalPayBenefits  Year  \\\n",
       "0              0.00  400184.25       NaN  567595.43         567595.43  2011   \n",
       "1         245131.88  137811.38       NaN  538909.28         538909.28  2011   \n",
       "2         106088.18   16452.60       NaN  335279.91         335279.91  2011   \n",
       "3          56120.71  198306.90       NaN  332343.61         332343.61  2011   \n",
       "4           9737.00  182234.59       NaN  326373.19         326373.19  2011   \n",
       "...             ...        ...       ...        ...               ...   ...   \n",
       "148643         0.00       0.00       0.0       0.00              0.00  2014   \n",
       "148644         0.00       0.00       0.0       0.00              0.00  2014   \n",
       "148645         0.00       0.00       0.0       0.00              0.00  2014   \n",
       "148646         0.00       0.00       0.0       0.00              0.00  2014   \n",
       "148647         0.00    -618.13       0.0    -618.13           -618.13  2014   \n",
       "\n",
       "        Notes         Agency Status  \n",
       "0         NaN  San Francisco    NaN  \n",
       "1         NaN  San Francisco    NaN  \n",
       "2         NaN  San Francisco    NaN  \n",
       "3         NaN  San Francisco    NaN  \n",
       "4         NaN  San Francisco    NaN  \n",
       "...       ...            ...    ...  \n",
       "148643    NaN  San Francisco     PT  \n",
       "148644    NaN  San Francisco     PT  \n",
       "148645    NaN  San Francisco     PT  \n",
       "148646    NaN  San Francisco     PT  \n",
       "148647    NaN  San Francisco     PT  \n",
       "\n",
       "[148648 rows x 13 columns]"
      ]
     },
     "execution_count": 49,
     "metadata": {},
     "output_type": "execute_result"
    }
   ],
   "source": [
    "Salaries_df"
   ]
  },
  {
   "cell_type": "code",
   "execution_count": 50,
   "metadata": {},
   "outputs": [
    {
     "data": {
      "text/plain": [
       "(148648, 13)"
      ]
     },
     "execution_count": 50,
     "metadata": {},
     "output_type": "execute_result"
    }
   ],
   "source": [
    "Salaries_df.shape"
   ]
  },
  {
   "cell_type": "code",
   "execution_count": 51,
   "metadata": {},
   "outputs": [
    {
     "data": {
      "text/plain": [
       "Index(['Id', 'EmployeeName', 'JobTitle', 'BasePay', 'OvertimePay', 'OtherPay',\n",
       "       'Benefits', 'TotalPay', 'TotalPayBenefits', 'Year', 'Notes', 'Agency',\n",
       "       'Status'],\n",
       "      dtype='object')"
      ]
     },
     "execution_count": 51,
     "metadata": {},
     "output_type": "execute_result"
    }
   ],
   "source": [
    "Salaries_df.columns"
   ]
  },
  {
   "cell_type": "code",
   "execution_count": 52,
   "metadata": {},
   "outputs": [
    {
     "data": {
      "text/plain": [
       "Id                       0\n",
       "EmployeeName             0\n",
       "JobTitle                 0\n",
       "BasePay                605\n",
       "OvertimePay              0\n",
       "OtherPay                 0\n",
       "Benefits             36158\n",
       "TotalPay                 0\n",
       "TotalPayBenefits         0\n",
       "Year                     0\n",
       "Notes               148648\n",
       "Agency                   0\n",
       "Status              110529\n",
       "dtype: int64"
      ]
     },
     "execution_count": 52,
     "metadata": {},
     "output_type": "execute_result"
    }
   ],
   "source": [
    "Salaries_df.isnull().sum()"
   ]
  },
  {
   "cell_type": "code",
   "execution_count": 65,
   "metadata": {},
   "outputs": [
    {
     "data": {
      "text/plain": [
       "dtype('float64')"
      ]
     },
     "execution_count": 65,
     "metadata": {},
     "output_type": "execute_result"
    }
   ],
   "source": [
    "Salaries_df['BasePay'].dtype"
   ]
  },
  {
   "cell_type": "code",
   "execution_count": 71,
   "metadata": {},
   "outputs": [
    {
     "data": {
      "text/html": [
       "<div>\n",
       "<style scoped>\n",
       "    .dataframe tbody tr th:only-of-type {\n",
       "        vertical-align: middle;\n",
       "    }\n",
       "\n",
       "    .dataframe tbody tr th {\n",
       "        vertical-align: top;\n",
       "    }\n",
       "\n",
       "    .dataframe thead th {\n",
       "        text-align: right;\n",
       "    }\n",
       "</style>\n",
       "<table border=\"1\" class=\"dataframe\">\n",
       "  <thead>\n",
       "    <tr style=\"text-align: right;\">\n",
       "      <th></th>\n",
       "      <th>Id</th>\n",
       "      <th>BasePay</th>\n",
       "      <th>OvertimePay</th>\n",
       "      <th>OtherPay</th>\n",
       "      <th>Benefits</th>\n",
       "      <th>TotalPay</th>\n",
       "      <th>TotalPayBenefits</th>\n",
       "      <th>Year</th>\n",
       "      <th>Notes</th>\n",
       "    </tr>\n",
       "  </thead>\n",
       "  <tbody>\n",
       "    <tr>\n",
       "      <th>count</th>\n",
       "      <td>148648.000000</td>\n",
       "      <td>148648.000000</td>\n",
       "      <td>148648.000000</td>\n",
       "      <td>148648.000000</td>\n",
       "      <td>112490.000000</td>\n",
       "      <td>148648.000000</td>\n",
       "      <td>148648.000000</td>\n",
       "      <td>148648.000000</td>\n",
       "      <td>0.0</td>\n",
       "    </tr>\n",
       "    <tr>\n",
       "      <th>mean</th>\n",
       "      <td>74326.110220</td>\n",
       "      <td>66278.094752</td>\n",
       "      <td>5065.821161</td>\n",
       "      <td>3648.761721</td>\n",
       "      <td>25007.777439</td>\n",
       "      <td>74770.035453</td>\n",
       "      <td>93694.776345</td>\n",
       "      <td>2012.522617</td>\n",
       "      <td>NaN</td>\n",
       "    </tr>\n",
       "    <tr>\n",
       "      <th>std</th>\n",
       "      <td>42911.633315</td>\n",
       "      <td>42684.197065</td>\n",
       "      <td>11454.266982</td>\n",
       "      <td>8056.655841</td>\n",
       "      <td>15402.235424</td>\n",
       "      <td>50516.440633</td>\n",
       "      <td>62792.743250</td>\n",
       "      <td>1.117526</td>\n",
       "      <td>NaN</td>\n",
       "    </tr>\n",
       "    <tr>\n",
       "      <th>min</th>\n",
       "      <td>1.000000</td>\n",
       "      <td>-166.010000</td>\n",
       "      <td>-0.010000</td>\n",
       "      <td>-7058.590000</td>\n",
       "      <td>-33.890000</td>\n",
       "      <td>-618.130000</td>\n",
       "      <td>-618.130000</td>\n",
       "      <td>2011.000000</td>\n",
       "      <td>NaN</td>\n",
       "    </tr>\n",
       "    <tr>\n",
       "      <th>25%</th>\n",
       "      <td>37163.750000</td>\n",
       "      <td>33844.777500</td>\n",
       "      <td>0.000000</td>\n",
       "      <td>0.000000</td>\n",
       "      <td>11535.192500</td>\n",
       "      <td>36169.370000</td>\n",
       "      <td>44072.062500</td>\n",
       "      <td>2012.000000</td>\n",
       "      <td>NaN</td>\n",
       "    </tr>\n",
       "    <tr>\n",
       "      <th>50%</th>\n",
       "      <td>74326.500000</td>\n",
       "      <td>64862.310000</td>\n",
       "      <td>0.000000</td>\n",
       "      <td>811.205000</td>\n",
       "      <td>28628.365000</td>\n",
       "      <td>71427.130000</td>\n",
       "      <td>92406.020000</td>\n",
       "      <td>2013.000000</td>\n",
       "      <td>NaN</td>\n",
       "    </tr>\n",
       "    <tr>\n",
       "      <th>75%</th>\n",
       "      <td>111488.250000</td>\n",
       "      <td>94611.000000</td>\n",
       "      <td>4657.597500</td>\n",
       "      <td>4236.035000</td>\n",
       "      <td>35566.790000</td>\n",
       "      <td>105840.920000</td>\n",
       "      <td>132876.997500</td>\n",
       "      <td>2014.000000</td>\n",
       "      <td>NaN</td>\n",
       "    </tr>\n",
       "    <tr>\n",
       "      <th>max</th>\n",
       "      <td>148654.000000</td>\n",
       "      <td>319275.010000</td>\n",
       "      <td>245131.880000</td>\n",
       "      <td>400184.250000</td>\n",
       "      <td>96570.660000</td>\n",
       "      <td>567595.430000</td>\n",
       "      <td>567595.430000</td>\n",
       "      <td>2014.000000</td>\n",
       "      <td>NaN</td>\n",
       "    </tr>\n",
       "  </tbody>\n",
       "</table>\n",
       "</div>"
      ],
      "text/plain": [
       "                  Id        BasePay    OvertimePay       OtherPay  \\\n",
       "count  148648.000000  148648.000000  148648.000000  148648.000000   \n",
       "mean    74326.110220   66278.094752    5065.821161    3648.761721   \n",
       "std     42911.633315   42684.197065   11454.266982    8056.655841   \n",
       "min         1.000000    -166.010000      -0.010000   -7058.590000   \n",
       "25%     37163.750000   33844.777500       0.000000       0.000000   \n",
       "50%     74326.500000   64862.310000       0.000000     811.205000   \n",
       "75%    111488.250000   94611.000000    4657.597500    4236.035000   \n",
       "max    148654.000000  319275.010000  245131.880000  400184.250000   \n",
       "\n",
       "            Benefits       TotalPay  TotalPayBenefits           Year  Notes  \n",
       "count  112490.000000  148648.000000     148648.000000  148648.000000    0.0  \n",
       "mean    25007.777439   74770.035453      93694.776345    2012.522617    NaN  \n",
       "std     15402.235424   50516.440633      62792.743250       1.117526    NaN  \n",
       "min       -33.890000    -618.130000       -618.130000    2011.000000    NaN  \n",
       "25%     11535.192500   36169.370000      44072.062500    2012.000000    NaN  \n",
       "50%     28628.365000   71427.130000      92406.020000    2013.000000    NaN  \n",
       "75%     35566.790000  105840.920000     132876.997500    2014.000000    NaN  \n",
       "max     96570.660000  567595.430000     567595.430000    2014.000000    NaN  "
      ]
     },
     "execution_count": 71,
     "metadata": {},
     "output_type": "execute_result"
    }
   ],
   "source": [
    "Salaries_df.describe()"
   ]
  },
  {
   "cell_type": "code",
   "execution_count": 75,
   "metadata": {},
   "outputs": [
    {
     "data": {
      "text/plain": [
       "64862.31"
      ]
     },
     "execution_count": 75,
     "metadata": {},
     "output_type": "execute_result"
    }
   ],
   "source": [
    "median_value = Salaries_df['BasePay'].median()\n",
    "median_value"
   ]
  },
  {
   "cell_type": "code",
   "execution_count": 76,
   "metadata": {},
   "outputs": [],
   "source": [
    "Salaries_df['BasePay'].fillna(median_value, inplace=True)"
   ]
  },
  {
   "cell_type": "markdown",
   "metadata": {},
   "source": [
    "## **Objective**\n",
    "- How much total salary cost has increased from the year 2011 and 2014?\n",
    "- Who was the top earning employee across all the years?"
   ]
  },
  {
   "cell_type": "markdown",
   "metadata": {},
   "source": [
    "------------------------------------------------------------------------------\n",
    "1. Calculating the increase in total salary cost from 2011 to 2014"
   ]
  },
  {
   "cell_type": "code",
   "execution_count": 113,
   "metadata": {},
   "outputs": [],
   "source": [
    "salaries_2011 = Salaries_df.loc[Salaries_df['Year'] == 2011, 'TotalPayBenefits']"
   ]
  },
  {
   "cell_type": "code",
   "execution_count": 104,
   "metadata": {},
   "outputs": [
    {
     "data": {
      "text/plain": [
       "2594113030.72"
      ]
     },
     "execution_count": 104,
     "metadata": {},
     "output_type": "execute_result"
    }
   ],
   "source": [
    "salaries_2011.sum()"
   ]
  },
  {
   "cell_type": "code",
   "execution_count": 105,
   "metadata": {},
   "outputs": [],
   "source": [
    "salaries_2014 = Salaries_df.loc[Salaries_df['Year'] == 2014, 'TotalPayBenefits']"
   ]
  },
  {
   "cell_type": "code",
   "execution_count": 106,
   "metadata": {},
   "outputs": [
    {
     "data": {
      "text/plain": [
       "3821865780.6"
      ]
     },
     "execution_count": 106,
     "metadata": {},
     "output_type": "execute_result"
    }
   ],
   "source": [
    "salaries_2014.sum()"
   ]
  },
  {
   "cell_type": "code",
   "execution_count": 115,
   "metadata": {},
   "outputs": [
    {
     "data": {
      "text/plain": [
       "101108.51"
      ]
     },
     "execution_count": 115,
     "metadata": {},
     "output_type": "execute_result"
    }
   ],
   "source": [
    "salaries_2014.median()"
   ]
  },
  {
   "cell_type": "markdown",
   "metadata": {},
   "source": [
    "Calculate the total salaries for the year 2011"
   ]
  },
  {
   "cell_type": "code",
   "execution_count": 107,
   "metadata": {},
   "outputs": [
    {
     "data": {
      "text/plain": [
       "2594113030.72"
      ]
     },
     "execution_count": 107,
     "metadata": {},
     "output_type": "execute_result"
    }
   ],
   "source": [
    "total_salary_2011 = salaries_2011.sum()\n",
    "total_salary_2011"
   ]
  },
  {
   "cell_type": "markdown",
   "metadata": {},
   "source": [
    "Calculate the total salaries for the year 2014"
   ]
  },
  {
   "cell_type": "code",
   "execution_count": 108,
   "metadata": {},
   "outputs": [
    {
     "data": {
      "text/plain": [
       "3821865780.6"
      ]
     },
     "execution_count": 108,
     "metadata": {},
     "output_type": "execute_result"
    }
   ],
   "source": [
    "total_salary_2014 = salaries_2014.sum()\n",
    "total_salary_2014"
   ]
  },
  {
   "cell_type": "code",
   "execution_count": 109,
   "metadata": {},
   "outputs": [
    {
     "data": {
      "text/plain": [
       "1227752749.88"
      ]
     },
     "execution_count": 109,
     "metadata": {},
     "output_type": "execute_result"
    }
   ],
   "source": [
    "salary_increase = total_salary_2014 - total_salary_2011\n",
    "salary_increase"
   ]
  },
  {
   "cell_type": "markdown",
   "metadata": {},
   "source": [
    "There is an increase of 1227752749.88 from 2011 to 2014 in salary"
   ]
  },
  {
   "cell_type": "markdown",
   "metadata": {},
   "source": [
    "--------------------------------------------------------------------------\n",
    "2. Calculating the top earning employee across all the years"
   ]
  },
  {
   "cell_type": "code",
   "execution_count": 112,
   "metadata": {},
   "outputs": [
    {
     "data": {
      "text/html": [
       "<div>\n",
       "<style scoped>\n",
       "    .dataframe tbody tr th:only-of-type {\n",
       "        vertical-align: middle;\n",
       "    }\n",
       "\n",
       "    .dataframe tbody tr th {\n",
       "        vertical-align: top;\n",
       "    }\n",
       "\n",
       "    .dataframe thead th {\n",
       "        text-align: right;\n",
       "    }\n",
       "</style>\n",
       "<table border=\"1\" class=\"dataframe\">\n",
       "  <thead>\n",
       "    <tr style=\"text-align: right;\">\n",
       "      <th></th>\n",
       "      <th>mean</th>\n",
       "      <th>max</th>\n",
       "    </tr>\n",
       "    <tr>\n",
       "      <th>Year</th>\n",
       "      <th></th>\n",
       "      <th></th>\n",
       "    </tr>\n",
       "  </thead>\n",
       "  <tbody>\n",
       "    <tr>\n",
       "      <th>2011</th>\n",
       "      <td>71743.819645</td>\n",
       "      <td>567595.43</td>\n",
       "    </tr>\n",
       "    <tr>\n",
       "      <th>2012</th>\n",
       "      <td>100551.886807</td>\n",
       "      <td>407274.78</td>\n",
       "    </tr>\n",
       "    <tr>\n",
       "      <th>2013</th>\n",
       "      <td>101440.519714</td>\n",
       "      <td>425815.28</td>\n",
       "    </tr>\n",
       "    <tr>\n",
       "      <th>2014</th>\n",
       "      <td>100261.438668</td>\n",
       "      <td>510732.68</td>\n",
       "    </tr>\n",
       "  </tbody>\n",
       "</table>\n",
       "</div>"
      ],
      "text/plain": [
       "               mean        max\n",
       "Year                          \n",
       "2011   71743.819645  567595.43\n",
       "2012  100551.886807  407274.78\n",
       "2013  101440.519714  425815.28\n",
       "2014  100261.438668  510732.68"
      ]
     },
     "execution_count": 112,
     "metadata": {},
     "output_type": "execute_result"
    }
   ],
   "source": [
    "Salaries_df.groupby('Year')['TotalPayBenefits'].agg(['mean', 'max']).head(n=10)"
   ]
  },
  {
   "cell_type": "code",
   "execution_count": 116,
   "metadata": {},
   "outputs": [
    {
     "data": {
      "text/plain": [
       "<Axes: xlabel='TotalPayBenefits'>"
      ]
     },
     "execution_count": 116,
     "metadata": {},
     "output_type": "execute_result"
    },
    {
     "data": {
      "image/png": "[encoded data removed]",
      "text/plain": [
       "<Figure size 640x480 with 1 Axes>"
      ]
     },
     "metadata": {},
     "output_type": "display_data"
    }
   ],
   "source": [
    "import seaborn as sns\n",
    "sns.boxplot(x=Salaries_df['TotalPayBenefits'])"
   ]
  },
  {
   "cell_type": "code",
   "execution_count": 117,
   "metadata": {},
   "outputs": [
    {
     "data": {
      "text/plain": [
       "<Axes: xlabel='BasePay'>"
      ]
     },
     "execution_count": 117,
     "metadata": {},
     "output_type": "execute_result"
    },
    {
     "data": {
      "image/png": "[encoded data removed]",
      "text/plain": [
       "<Figure size 640x480 with 1 Axes>"
      ]
     },
     "metadata": {},
     "output_type": "display_data"
    }
   ],
   "source": [
    "sns.boxplot(x=Salaries_df['BasePay'])"
   ]
  },
  {
   "cell_type": "code",
   "execution_count": null,
   "metadata": {},
   "outputs": [],
   "source": [
    "imp"
   ]
  },
  {
   "cell_type": "code",
   "execution_count": 119,
   "metadata": {},
   "outputs": [],
   "source": [
    "def outlier_detection(datacolumn):\n",
    "    sorted(datacolumn)\n",
    "    Q1,Q3 = np.percentile(datacolumn , [25,75]) # Q1- first quartile value, Q3- third quartile value\n",
    "    IQR = Q3 - Q1 # IQR - Inter quartile range \n",
    "    lower_range = Q1 - (1.5 * IQR) # min permissible limit\n",
    "    upper_range = Q3 + (1.5 * IQR) # max permissible limit\n",
    "    return lower_range,upper_range"
   ]
  },
  {
   "cell_type": "code",
   "execution_count": null,
   "metadata": {},
   "outputs": [],
   "source": [
    "lower, upper = outlier_detection(sample_data[\"Height in CM\"])"
   ]
  }
 ],
 "metadata": {
  "kernelspec": {
   "display_name": "Python 3",
   "language": "python",
   "name": "python3"
  },
  "language_info": {
   "codemirror_mode": {
    "name": "ipython",
    "version": 3
   },
   "file_extension": ".py",
   "mimetype": "text/x-python",
   "name": "python",
   "nbconvert_exporter": "python",
   "pygments_lexer": "ipython3",
   "version": "3.10.11"
  }
 },
 "nbformat": 4,
 "nbformat_minor": 2
}
