{
 "cells": [
  {
   "cell_type": "markdown",
   "id": "fb81d307",
   "metadata": {},
   "source": [
    "# Comcast telecom complaints data"
   ]
  },
  {
   "cell_type": "markdown",
   "id": "5d0d8878",
   "metadata": {},
   "source": [
    "**1. Import data into python environent**"
   ]
  },
  {
   "cell_type": "code",
   "execution_count": 37,
   "id": "af419ac8",
   "metadata": {},
   "outputs": [],
   "source": [
    "import pandas as pd\n",
    "import matplotlib.pyplot as plt\n",
    "import numpy as np"
   ]
  },
  {
   "cell_type": "code",
   "execution_count": 38,
   "id": "13503f68",
   "metadata": {},
   "outputs": [],
   "source": [
    "#Import the dataset\n",
    "df_com_data = pd.read_csv(\"D:/Academics/AI & ML/Data Science with Python/Project/Comcast telecom complaints data.csv\")"
   ]
  },
  {
   "cell_type": "markdown",
   "id": "96af8892",
   "metadata": {},
   "source": [
    "**Analyze the dataset**"
   ]
  },
  {
   "cell_type": "code",
   "execution_count": 39,
   "id": "e89e4455",
   "metadata": {},
   "outputs": [
    {
     "data": {
      "text/html": [
       "<div>\n",
       "<style scoped>\n",
       "    .dataframe tbody tr th:only-of-type {\n",
       "        vertical-align: middle;\n",
       "    }\n",
       "\n",
       "    .dataframe tbody tr th {\n",
       "        vertical-align: top;\n",
       "    }\n",
       "\n",
       "    .dataframe thead th {\n",
       "        text-align: right;\n",
       "    }\n",
       "</style>\n",
       "<table border=\"1\" class=\"dataframe\">\n",
       "  <thead>\n",
       "    <tr style=\"text-align: right;\">\n",
       "      <th></th>\n",
       "      <th>Ticket #</th>\n",
       "      <th>Customer Complaint</th>\n",
       "      <th>Date</th>\n",
       "      <th>Date_month_year</th>\n",
       "      <th>Time</th>\n",
       "      <th>Received Via</th>\n",
       "      <th>City</th>\n",
       "      <th>State</th>\n",
       "      <th>Zip code</th>\n",
       "      <th>Status</th>\n",
       "      <th>Filing on Behalf of Someone</th>\n",
       "    </tr>\n",
       "  </thead>\n",
       "  <tbody>\n",
       "    <tr>\n",
       "      <th>0</th>\n",
       "      <td>250635</td>\n",
       "      <td>Comcast Cable Internet Speeds</td>\n",
       "      <td>22-04-15</td>\n",
       "      <td>22-Apr-15</td>\n",
       "      <td>3:53:50 PM</td>\n",
       "      <td>Customer Care Call</td>\n",
       "      <td>Abingdon</td>\n",
       "      <td>Maryland</td>\n",
       "      <td>21009</td>\n",
       "      <td>Closed</td>\n",
       "      <td>No</td>\n",
       "    </tr>\n",
       "    <tr>\n",
       "      <th>1</th>\n",
       "      <td>223441</td>\n",
       "      <td>Payment disappear - service got disconnected</td>\n",
       "      <td>04-08-15</td>\n",
       "      <td>04-Aug-15</td>\n",
       "      <td>10:22:56 AM</td>\n",
       "      <td>Internet</td>\n",
       "      <td>Acworth</td>\n",
       "      <td>Georgia</td>\n",
       "      <td>30102</td>\n",
       "      <td>Closed</td>\n",
       "      <td>No</td>\n",
       "    </tr>\n",
       "    <tr>\n",
       "      <th>2</th>\n",
       "      <td>242732</td>\n",
       "      <td>Speed and Service</td>\n",
       "      <td>18-04-15</td>\n",
       "      <td>18-Apr-15</td>\n",
       "      <td>9:55:47 AM</td>\n",
       "      <td>Internet</td>\n",
       "      <td>Acworth</td>\n",
       "      <td>Georgia</td>\n",
       "      <td>30101</td>\n",
       "      <td>Closed</td>\n",
       "      <td>Yes</td>\n",
       "    </tr>\n",
       "    <tr>\n",
       "      <th>3</th>\n",
       "      <td>277946</td>\n",
       "      <td>Comcast Imposed a New Usage Cap of 300GB that ...</td>\n",
       "      <td>05-07-15</td>\n",
       "      <td>05-Jul-15</td>\n",
       "      <td>11:59:35 AM</td>\n",
       "      <td>Internet</td>\n",
       "      <td>Acworth</td>\n",
       "      <td>Georgia</td>\n",
       "      <td>30101</td>\n",
       "      <td>Open</td>\n",
       "      <td>Yes</td>\n",
       "    </tr>\n",
       "    <tr>\n",
       "      <th>4</th>\n",
       "      <td>307175</td>\n",
       "      <td>Comcast not working and no service to boot</td>\n",
       "      <td>26-05-15</td>\n",
       "      <td>26-May-15</td>\n",
       "      <td>1:25:26 PM</td>\n",
       "      <td>Internet</td>\n",
       "      <td>Acworth</td>\n",
       "      <td>Georgia</td>\n",
       "      <td>30101</td>\n",
       "      <td>Solved</td>\n",
       "      <td>No</td>\n",
       "    </tr>\n",
       "  </tbody>\n",
       "</table>\n",
       "</div>"
      ],
      "text/plain": [
       "  Ticket #                                 Customer Complaint      Date  \\\n",
       "0   250635                      Comcast Cable Internet Speeds  22-04-15   \n",
       "1   223441       Payment disappear - service got disconnected  04-08-15   \n",
       "2   242732                                  Speed and Service  18-04-15   \n",
       "3   277946  Comcast Imposed a New Usage Cap of 300GB that ...  05-07-15   \n",
       "4   307175         Comcast not working and no service to boot  26-05-15   \n",
       "\n",
       "  Date_month_year         Time        Received Via      City     State  \\\n",
       "0       22-Apr-15   3:53:50 PM  Customer Care Call  Abingdon  Maryland   \n",
       "1       04-Aug-15  10:22:56 AM            Internet   Acworth   Georgia   \n",
       "2       18-Apr-15   9:55:47 AM            Internet   Acworth   Georgia   \n",
       "3       05-Jul-15  11:59:35 AM            Internet   Acworth   Georgia   \n",
       "4       26-May-15   1:25:26 PM            Internet   Acworth   Georgia   \n",
       "\n",
       "   Zip code  Status Filing on Behalf of Someone  \n",
       "0     21009  Closed                          No  \n",
       "1     30102  Closed                          No  \n",
       "2     30101  Closed                         Yes  \n",
       "3     30101    Open                         Yes  \n",
       "4     30101  Solved                          No  "
      ]
     },
     "execution_count": 39,
     "metadata": {},
     "output_type": "execute_result"
    }
   ],
   "source": [
    "#View the initial few records of the dataset\n",
    "df_com_data.head()"
   ]
  },
  {
   "cell_type": "code",
   "execution_count": 40,
   "id": "7fbcc6ea",
   "metadata": {},
   "outputs": [
    {
     "data": {
      "text/plain": [
       "Comcast                     83\n",
       "Comcast Internet            18\n",
       "Comcast Data Cap            17\n",
       "comcast                     13\n",
       "Comcast Billing             11\n",
       "Comcast Data Caps           11\n",
       "Data Caps                   11\n",
       "Unfair Billing Practices     9\n",
       "Comcast/Xfinity              8\n",
       "Comcast data cap             8\n",
       "Comcast internet             8\n",
       "Internet speed               8\n",
       "Data Cap                     8\n",
       "Comcast data caps            8\n",
       "Comcast billing              6\n",
       "Name: Customer Complaint, dtype: int64"
      ]
     },
     "execution_count": 40,
     "metadata": {},
     "output_type": "execute_result"
    }
   ],
   "source": [
    "df_com_data[\"Customer Complaint\"].value_counts().head(15)"
   ]
  },
  {
   "cell_type": "code",
   "execution_count": 41,
   "id": "3cc932a0",
   "metadata": {},
   "outputs": [
    {
     "data": {
      "text/plain": [
       "24-Jun-15    218\n",
       "23-Jun-15    190\n",
       "25-Jun-15     98\n",
       "26-Jun-15     55\n",
       "30-Jun-15     53\n",
       "29-Jun-15     51\n",
       "18-Jun-15     47\n",
       "06-Dec-15     43\n",
       "27-Jun-15     39\n",
       "15-Jun-15     34\n",
       "13-Jun-15     32\n",
       "17-Jun-15     32\n",
       "22-Jun-15     30\n",
       "16-Jun-15     29\n",
       "06-May-15     29\n",
       "19-Jun-15     29\n",
       "04-Aug-15     28\n",
       "04-Feb-15     27\n",
       "28-Jun-15     27\n",
       "26-May-15     27\n",
       "28-May-15     26\n",
       "28-Apr-15     26\n",
       "04-Jul-15     25\n",
       "06-Jan-15     25\n",
       "06-Mar-15     25\n",
       "06-Feb-15     25\n",
       "27-Apr-15     25\n",
       "06-Oct-15     25\n",
       "24-Apr-15     24\n",
       "06-Aug-15     24\n",
       "Name: Date_month_year, dtype: int64"
      ]
     },
     "execution_count": 41,
     "metadata": {},
     "output_type": "execute_result"
    }
   ],
   "source": [
    "df_com_data[\"Date_month_year\"].value_counts().head(30)"
   ]
  },
  {
   "cell_type": "markdown",
   "id": "cd65428f",
   "metadata": {},
   "source": [
    "**2. Provide the trend chart for number of complaints at daily and monthly granularity levels**"
   ]
  },
  {
   "cell_type": "code",
   "execution_count": 42,
   "id": "146eaccb",
   "metadata": {},
   "outputs": [],
   "source": [
    "Daily_compls = [13,15,18,23,24,25,26,27,29,30]\n",
    "Times = [32,34,47,19,218,98,55,39,51,53]"
   ]
  },
  {
   "cell_type": "code",
   "execution_count": 43,
   "id": "d33cd49d",
   "metadata": {},
   "outputs": [
    {
     "data": {
      "image/png": "[encoded data removed]",
      "text/plain": [
       "<Figure size 432x288 with 1 Axes>"
      ]
     },
     "metadata": {
      "needs_background": "light"
     },
     "output_type": "display_data"
    }
   ],
   "source": [
    "plt.plot(Daily_compls, Times, color =\"b\", linewidth=1.5, linestyle=\"-\",  marker = \"o\")\n",
    "plt.xlabel(\"Time\")\n",
    "plt.ylabel(\"No_of_Compl\")\n",
    "plt.title(\"Daily Customer Complaints\")\n",
    "plt.grid(True)"
   ]
  },
  {
   "cell_type": "code",
   "execution_count": 44,
   "id": "6303bce3",
   "metadata": {},
   "outputs": [],
   "source": [
    "Month = [1, 2, 3, 4, 5, 6, 7, 8, 9, 10]\n",
    "Times = [25, 52, 25, 75, 56,964, 25,52, 43,25]"
   ]
  },
  {
   "cell_type": "code",
   "execution_count": 45,
   "id": "b9d96b26",
   "metadata": {},
   "outputs": [
    {
     "data": {
      "image/png": "[encoded data removed]",
      "text/plain": [
       "<Figure size 432x288 with 1 Axes>"
      ]
     },
     "metadata": {
      "needs_background": "light"
     },
     "output_type": "display_data"
    }
   ],
   "source": [
    "plt.plot(Month, Times, color =\"r\", linewidth=1.5, linestyle=\"-\",  marker = \"o\")\n",
    "plt.xlabel(\"No of Times\")\n",
    "plt.ylabel(\"No of Complaints\")\n",
    "plt.title(\"MOnthly Customer Complaints\")\n",
    "plt.grid(True)"
   ]
  },
  {
   "cell_type": "markdown",
   "id": "53914299",
   "metadata": {},
   "source": [
    "**3. Provide a table with the frequency of complaint types**"
   ]
  },
  {
   "cell_type": "code",
   "execution_count": 46,
   "id": "19b88776",
   "metadata": {},
   "outputs": [
    {
     "data": {
      "text/plain": [
       "Comcast                     83\n",
       "Comcast Internet            18\n",
       "Comcast Data Cap            17\n",
       "comcast                     13\n",
       "Comcast Billing             11\n",
       "Comcast Data Caps           11\n",
       "Data Caps                   11\n",
       "Unfair Billing Practices     9\n",
       "Comcast/Xfinity              8\n",
       "Comcast data cap             8\n",
       "Comcast internet             8\n",
       "Internet speed               8\n",
       "Data Cap                     8\n",
       "Comcast data caps            8\n",
       "Comcast billing              6\n",
       "Billing                      6\n",
       "COMCAST                      6\n",
       "Comcast service              6\n",
       "Comcast Service              6\n",
       "Comcast Complaint            5\n",
       "Name: Customer Complaint, dtype: int64"
      ]
     },
     "execution_count": 46,
     "metadata": {},
     "output_type": "execute_result"
    }
   ],
   "source": [
    "df_com_data[\"Customer Complaint\"].value_counts().head(20)"
   ]
  },
  {
   "cell_type": "code",
   "execution_count": 47,
   "id": "7eb0ea3c",
   "metadata": {},
   "outputs": [
    {
     "data": {
      "text/plain": [
       "Text(0, 0.5, 'Number of times')"
      ]
     },
     "execution_count": 47,
     "metadata": {},
     "output_type": "execute_result"
    },
    {
     "data": {
      "image/png": "[encoded data removed]",
      "text/plain": [
       "<Figure size 576x360 with 1 Axes>"
      ]
     },
     "metadata": {
      "needs_background": "light"
     },
     "output_type": "display_data"
    }
   ],
   "source": [
    "plt.figure(figsize = (8,5))\n",
    "x = np.array([\"Comcast Internet\", \"Data Caps\", \"Internet speed\", \"C Billing\", \"Unfair Billing\", \"Bad Service\"])\n",
    "y = np.array([18, 17, 8, 11, 9, 6])\n",
    "\n",
    "plt.title(\"frequency of complaint types\")\n",
    "plt.bar(x,y, color = \"b\", width = 0.3, alpha = 0.7)\n",
    "plt.xlabel(\"Type of Complaints\")\n",
    "plt.ylabel(\"Number of times\")"
   ]
  },
  {
   "cell_type": "markdown",
   "id": "9e7f3d6e",
   "metadata": {},
   "source": [
    "**4. Which complaint type is maximum**\n",
    "\n",
    "- Comcast internet has maximum number of complaints"
   ]
  },
  {
   "cell_type": "markdown",
   "id": "8239b289",
   "metadata": {},
   "source": [
    "**5. Create a new categorical variable as OPEN and CLOSED**\n",
    "- Open & Pending is to be categorized as Open.\n",
    "- Closed & Solved s to be categorized as Closed."
   ]
  },
  {
   "cell_type": "code",
   "execution_count": 48,
   "id": "a6b613da",
   "metadata": {},
   "outputs": [
    {
     "data": {
      "text/plain": [
       "Index(['Ticket #', 'Customer Complaint', 'Date', 'Date_month_year', 'Time',\n",
       "       'Received Via', 'City', 'State', 'Zip code', 'Status',\n",
       "       'Filing on Behalf of Someone'],\n",
       "      dtype='object')"
      ]
     },
     "execution_count": 48,
     "metadata": {},
     "output_type": "execute_result"
    }
   ],
   "source": [
    "df_com_data.columns"
   ]
  },
  {
   "cell_type": "code",
   "execution_count": 49,
   "id": "9281a97c",
   "metadata": {},
   "outputs": [],
   "source": [
    "df_com_data2 = df_com_data['Status']"
   ]
  },
  {
   "cell_type": "code",
   "execution_count": 50,
   "id": "5c2b73f1",
   "metadata": {},
   "outputs": [
    {
     "data": {
      "text/plain": [
       "0      Closed\n",
       "1      Closed\n",
       "2      Closed\n",
       "3        Open\n",
       "4      Solved\n",
       "5      Solved\n",
       "6     Pending\n",
       "7      Solved\n",
       "8      Closed\n",
       "9        Open\n",
       "10     Closed\n",
       "11     Closed\n",
       "12       Open\n",
       "13     Solved\n",
       "14     Solved\n",
       "15    Pending\n",
       "16     Solved\n",
       "17     Closed\n",
       "18     Closed\n",
       "19     Closed\n",
       "Name: Status, dtype: object"
      ]
     },
     "execution_count": 50,
     "metadata": {},
     "output_type": "execute_result"
    }
   ],
   "source": [
    "df_com_data2.head(20)"
   ]
  },
  {
   "cell_type": "code",
   "execution_count": 51,
   "id": "755bed27",
   "metadata": {},
   "outputs": [
    {
     "data": {
      "text/plain": [
       "Georgia          288\n",
       "Florida          240\n",
       "California       220\n",
       "Illinois         164\n",
       "Tennessee        143\n",
       "Pennsylvania     130\n",
       "Michigan         115\n",
       "Washington        98\n",
       "Colorado          80\n",
       "Maryland          78\n",
       "New Jersey        75\n",
       "Texas             71\n",
       "Massachusetts     61\n",
       "Virginia          60\n",
       "Indiana           59\n",
       "Oregon            49\n",
       "Mississippi       39\n",
       "Minnesota         33\n",
       "Alabama           26\n",
       "Utah              22\n",
       "Name: State, dtype: int64"
      ]
     },
     "execution_count": 51,
     "metadata": {},
     "output_type": "execute_result"
    }
   ],
   "source": [
    "df_com_data[\"State\"].value_counts().head(20)"
   ]
  },
  {
   "cell_type": "code",
   "execution_count": 52,
   "id": "d58a9104",
   "metadata": {},
   "outputs": [],
   "source": [
    "df_com_data.replace(\"Pending\", \"Open\", inplace=True)"
   ]
  },
  {
   "cell_type": "code",
   "execution_count": 53,
   "id": "975a47c3",
   "metadata": {},
   "outputs": [],
   "source": [
    "df_com_data.replace(\"Solved\", \"Closed\", inplace=True)"
   ]
  },
  {
   "cell_type": "markdown",
   "id": "d081e207",
   "metadata": {},
   "source": [
    "**6. Provide a state wise status of complaints in a stacked bar chart.**"
   ]
  },
  {
   "cell_type": "code",
   "execution_count": 54,
   "id": "c5721755",
   "metadata": {},
   "outputs": [
    {
     "data": {
      "text/plain": [
       "Solved    973\n",
       "Closed    734\n",
       "Open      517\n",
       "Name: Status, dtype: int64"
      ]
     },
     "execution_count": 54,
     "metadata": {},
     "output_type": "execute_result"
    }
   ],
   "source": [
    "df_com_data2.value_counts()"
   ]
  },
  {
   "cell_type": "code",
   "execution_count": 55,
   "id": "29d1f0fa",
   "metadata": {},
   "outputs": [],
   "source": [
    "df_com_data_2 = df_com_data[['Status', 'State']].value_counts()"
   ]
  },
  {
   "cell_type": "code",
   "execution_count": 56,
   "id": "137cd8f0",
   "metadata": {},
   "outputs": [
    {
     "data": {
      "text/plain": [
       "Status  State        \n",
       "Closed  Georgia          208\n",
       "        Florida          201\n",
       "        California       159\n",
       "        Illinois         135\n",
       "        Pennsylvania     110\n",
       "        Tennessee         96\n",
       "        Michigan          92\n",
       "Open    Georgia           80\n",
       "Closed  Washington        75\n",
       "        Maryland          63\n",
       "Open    California        61\n",
       "Closed  Colorado          58\n",
       "        New Jersey        56\n",
       "        Indiana           50\n",
       "        Massachusetts     50\n",
       "        Texas             49\n",
       "        Virginia          49\n",
       "Open    Tennessee         47\n",
       "        Florida           39\n",
       "Closed  Oregon            36\n",
       "        Minnesota         29\n",
       "Open    Illinois          29\n",
       "Closed  Mississippi       23\n",
       "Open    Michigan          23\n",
       "        Washington        23\n",
       "        Colorado          22\n",
       "        Texas             22\n",
       "        Pennsylvania      20\n",
       "        New Jersey        19\n",
       "Closed  Alabama           17\n",
       "dtype: int64"
      ]
     },
     "execution_count": 56,
     "metadata": {},
     "output_type": "execute_result"
    }
   ],
   "source": [
    "df_com_data_2.head(30)"
   ]
  },
  {
   "cell_type": "code",
   "execution_count": 57,
   "id": "89234fed",
   "metadata": {},
   "outputs": [
    {
     "data": {
      "image/png": "[encoded data removed]",
      "text/plain": [
       "<Figure size 576x360 with 1 Axes>"
      ]
     },
     "metadata": {
      "needs_background": "light"
     },
     "output_type": "display_data"
    }
   ],
   "source": [
    "plt.figure(figsize = (8,5))  \n",
    "x = ['Georgia', 'Florida', 'California', 'Michigan']\n",
    "y1 = np.array([288, 240, 220, 115],) # Total Complaints\n",
    "y2 = np.array([208, 201, 159, 92],) # Closed Complaints\n",
    "y3 = np.array([80, 39, 61, 23],)    # Open Complaints\n",
    " \n",
    "plt.bar(x, y1, color='r')\n",
    "plt.bar(x, y2, bottom=y1, color='b')\n",
    "plt.bar(x, y3, bottom=y1+y2, color='k')\n",
    "plt.xlabel(\"States\")\n",
    "plt.ylabel(\"Frequency of Complaints\")\n",
    "plt.legend([\"Total complaints\", \"Closed\", \"Open\"])\n",
    "plt.show()"
   ]
  },
  {
   "cell_type": "markdown",
   "id": "79ff41ba",
   "metadata": {},
   "source": [
    "**Which State has maximum complaints ?**\n",
    "- Georgia has Maximum number of complaints (288)"
   ]
  },
  {
   "cell_type": "markdown",
   "id": "bb32e881",
   "metadata": {},
   "source": [
    "**7. Which State has the highest percentage of unresolved complaints ?**"
   ]
  },
  {
   "cell_type": "code",
   "execution_count": 108,
   "id": "8b8ba4b4",
   "metadata": {},
   "outputs": [],
   "source": [
    "unsolved_perc = {'State': ['Georgia', 'Florida', 'California', 'Michigan', 'Illinois', 'Tennessee'],\n",
    "                'Not Solved': [80, 39, 61, 29, 20, 47],\n",
    "                'Total Compl': [288, 240, 220, 115, 164, 143]}\n",
    "\n",
    "unsolved_perc = pd.DataFrame(unsolved_perc, columns = ['Not Solved', 'Total Compl'])\n",
    "\n",
    "unsolved_perc['Unsolved Percentage'] = (unsolved_perc['Not Solved'] / unsolved_perc['Total Compl'].sum())*100"
   ]
  },
  {
   "cell_type": "code",
   "execution_count": 109,
   "id": "507973f6",
   "metadata": {},
   "outputs": [
    {
     "data": {
      "text/html": [
       "<div>\n",
       "<style scoped>\n",
       "    .dataframe tbody tr th:only-of-type {\n",
       "        vertical-align: middle;\n",
       "    }\n",
       "\n",
       "    .dataframe tbody tr th {\n",
       "        vertical-align: top;\n",
       "    }\n",
       "\n",
       "    .dataframe thead th {\n",
       "        text-align: right;\n",
       "    }\n",
       "</style>\n",
       "<table border=\"1\" class=\"dataframe\">\n",
       "  <thead>\n",
       "    <tr style=\"text-align: right;\">\n",
       "      <th></th>\n",
       "      <th>Not Solved</th>\n",
       "      <th>Total Compl</th>\n",
       "      <th>Unsolved Percentage</th>\n",
       "    </tr>\n",
       "  </thead>\n",
       "  <tbody>\n",
       "    <tr>\n",
       "      <th>0</th>\n",
       "      <td>80</td>\n",
       "      <td>288</td>\n",
       "      <td>6.837607</td>\n",
       "    </tr>\n",
       "    <tr>\n",
       "      <th>1</th>\n",
       "      <td>39</td>\n",
       "      <td>240</td>\n",
       "      <td>3.333333</td>\n",
       "    </tr>\n",
       "    <tr>\n",
       "      <th>2</th>\n",
       "      <td>61</td>\n",
       "      <td>220</td>\n",
       "      <td>5.213675</td>\n",
       "    </tr>\n",
       "    <tr>\n",
       "      <th>3</th>\n",
       "      <td>29</td>\n",
       "      <td>115</td>\n",
       "      <td>2.478632</td>\n",
       "    </tr>\n",
       "    <tr>\n",
       "      <th>4</th>\n",
       "      <td>20</td>\n",
       "      <td>164</td>\n",
       "      <td>1.709402</td>\n",
       "    </tr>\n",
       "    <tr>\n",
       "      <th>5</th>\n",
       "      <td>47</td>\n",
       "      <td>143</td>\n",
       "      <td>4.017094</td>\n",
       "    </tr>\n",
       "  </tbody>\n",
       "</table>\n",
       "</div>"
      ],
      "text/plain": [
       "   Not Solved  Total Compl  Unsolved Percentage\n",
       "0          80          288             6.837607\n",
       "1          39          240             3.333333\n",
       "2          61          220             5.213675\n",
       "3          29          115             2.478632\n",
       "4          20          164             1.709402\n",
       "5          47          143             4.017094"
      ]
     },
     "execution_count": 109,
     "metadata": {},
     "output_type": "execute_result"
    }
   ],
   "source": [
    "unsolved_perc"
   ]
  },
  {
   "cell_type": "markdown",
   "id": "b4e181af",
   "metadata": {},
   "source": [
    "**8. Georgia has the highest percentage of unresolved complaints**"
   ]
  },
  {
   "cell_type": "code",
   "execution_count": 64,
   "id": "ec82a75c",
   "metadata": {},
   "outputs": [
    {
     "data": {
      "text/plain": [
       "Customer Care Call    1119\n",
       "Internet              1105\n",
       "Name: Received Via, dtype: int64"
      ]
     },
     "execution_count": 64,
     "metadata": {},
     "output_type": "execute_result"
    }
   ],
   "source": [
    "df_com_data[\"Received Via\"].value_counts()"
   ]
  },
  {
   "cell_type": "markdown",
   "id": "66337a49",
   "metadata": {},
   "source": [
    "**9. a) Percentage of Complaints received through Internet**"
   ]
  },
  {
   "cell_type": "code",
   "execution_count": 88,
   "id": "c75ec2e8",
   "metadata": {},
   "outputs": [],
   "source": [
    "perc_of_comp = {'Internet': [1105], 'Received Via': [2224]}\n",
    "\n",
    "perc_of_comp = pd.DataFrame(perc_of_comp, columns = ['Internet', 'Received Via'])\n",
    "\n",
    "perc_of_comp['Percentage'] = (perc_of_comp['Internet']/ perc_of_comp['Received Via'].sum()) * 100"
   ]
  },
  {
   "cell_type": "code",
   "execution_count": 89,
   "id": "89f9cfda",
   "metadata": {},
   "outputs": [
    {
     "data": {
      "text/html": [
       "<div>\n",
       "<style scoped>\n",
       "    .dataframe tbody tr th:only-of-type {\n",
       "        vertical-align: middle;\n",
       "    }\n",
       "\n",
       "    .dataframe tbody tr th {\n",
       "        vertical-align: top;\n",
       "    }\n",
       "\n",
       "    .dataframe thead th {\n",
       "        text-align: right;\n",
       "    }\n",
       "</style>\n",
       "<table border=\"1\" class=\"dataframe\">\n",
       "  <thead>\n",
       "    <tr style=\"text-align: right;\">\n",
       "      <th></th>\n",
       "      <th>Internet</th>\n",
       "      <th>Received Via</th>\n",
       "      <th>Percentage</th>\n",
       "    </tr>\n",
       "  </thead>\n",
       "  <tbody>\n",
       "    <tr>\n",
       "      <th>0</th>\n",
       "      <td>1105</td>\n",
       "      <td>2224</td>\n",
       "      <td>49.685252</td>\n",
       "    </tr>\n",
       "  </tbody>\n",
       "</table>\n",
       "</div>"
      ],
      "text/plain": [
       "   Internet  Received Via  Percentage\n",
       "0      1105          2224   49.685252"
      ]
     },
     "execution_count": 89,
     "metadata": {},
     "output_type": "execute_result"
    }
   ],
   "source": [
    "perc_of_comp"
   ]
  },
  {
   "cell_type": "markdown",
   "id": "ab55e0d5",
   "metadata": {},
   "source": [
    "**b) Percentage of Complaints received through Customer Care Call**"
   ]
  },
  {
   "cell_type": "code",
   "execution_count": 90,
   "id": "b7fde250",
   "metadata": {},
   "outputs": [],
   "source": [
    "perc_of_comp = {'Customer Care Call': [1119], 'Received Via': [2224]}\n",
    "\n",
    "perc_of_comp = pd.DataFrame(perc_of_comp, columns = ['Customer Care Call', 'Received Via'])\n",
    "\n",
    "perc_of_comp['Percentage'] = (perc_of_comp['Customer Care Call']/ perc_of_comp['Received Via'].sum()) * 100"
   ]
  },
  {
   "cell_type": "code",
   "execution_count": 91,
   "id": "8d7a0c00",
   "metadata": {},
   "outputs": [
    {
     "data": {
      "text/html": [
       "<div>\n",
       "<style scoped>\n",
       "    .dataframe tbody tr th:only-of-type {\n",
       "        vertical-align: middle;\n",
       "    }\n",
       "\n",
       "    .dataframe tbody tr th {\n",
       "        vertical-align: top;\n",
       "    }\n",
       "\n",
       "    .dataframe thead th {\n",
       "        text-align: right;\n",
       "    }\n",
       "</style>\n",
       "<table border=\"1\" class=\"dataframe\">\n",
       "  <thead>\n",
       "    <tr style=\"text-align: right;\">\n",
       "      <th></th>\n",
       "      <th>Customer Care Call</th>\n",
       "      <th>Received Via</th>\n",
       "      <th>Percentage</th>\n",
       "    </tr>\n",
       "  </thead>\n",
       "  <tbody>\n",
       "    <tr>\n",
       "      <th>0</th>\n",
       "      <td>1119</td>\n",
       "      <td>2224</td>\n",
       "      <td>50.314748</td>\n",
       "    </tr>\n",
       "  </tbody>\n",
       "</table>\n",
       "</div>"
      ],
      "text/plain": [
       "   Customer Care Call  Received Via  Percentage\n",
       "0                1119          2224   50.314748"
      ]
     },
     "execution_count": 91,
     "metadata": {},
     "output_type": "execute_result"
    }
   ],
   "source": [
    "perc_of_comp"
   ]
  }
 ],
 "metadata": {
  "kernelspec": {
   "display_name": "Python 3",
   "language": "python",
   "name": "python3"
  },
  "language_info": {
   "codemirror_mode": {
    "name": "ipython",
    "version": 3
   },
   "file_extension": ".py",
   "mimetype": "text/x-python",
   "name": "python",
   "nbconvert_exporter": "python",
   "pygments_lexer": "ipython3",
   "version": "3.8.8"
  }
 },
 "nbformat": 4,
 "nbformat_minor": 5
}
