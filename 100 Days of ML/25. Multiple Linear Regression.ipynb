{
 "cells": [
  {
   "cell_type": "markdown",
   "metadata": {},
   "source": [
    "## **Multiple Linear Regression**"
   ]
  },
  {
   "cell_type": "code",
   "execution_count": 17,
   "metadata": {},
   "outputs": [],
   "source": [
    "from sklearn.datasets import make_regression\n",
    "import numpy as np\n",
    "import pandas as pd\n",
    "import plotly.express as px\n",
    "import plotly.graph_objects as go\n"
   ]
  },
  {
   "cell_type": "code",
   "execution_count": 18,
   "metadata": {},
   "outputs": [],
   "source": [
    "X, y = make_regression(n_samples=100, n_features=2, n_informative=2, n_targets=1, noise=50)"
   ]
  },
  {
   "cell_type": "code",
   "execution_count": 19,
   "metadata": {},
   "outputs": [],
   "source": [
    "df = pd.DataFrame({'feature1':X[:,0], 'feature2':X[:,1], 'target':y})"
   ]
  },
  {
   "cell_type": "code",
   "execution_count": 20,
   "metadata": {},
   "outputs": [
    {
     "data": {
      "text/plain": [
       "(100, 3)"
      ]
     },
     "execution_count": 20,
     "metadata": {},
     "output_type": "execute_result"
    }
   ],
   "source": [
    "df.shape"
   ]
  },
  {
   "cell_type": "code",
   "execution_count": 21,
   "metadata": {},
   "outputs": [
    {
     "data": {
      "text/html": [
       "<div>\n",
       "<style scoped>\n",
       "    .dataframe tbody tr th:only-of-type {\n",
       "        vertical-align: middle;\n",
       "    }\n",
       "\n",
       "    .dataframe tbody tr th {\n",
       "        vertical-align: top;\n",
       "    }\n",
       "\n",
       "    .dataframe thead th {\n",
       "        text-align: right;\n",
       "    }\n",
       "</style>\n",
       "<table border=\"1\" class=\"dataframe\">\n",
       "  <thead>\n",
       "    <tr style=\"text-align: right;\">\n",
       "      <th></th>\n",
       "      <th>feature1</th>\n",
       "      <th>feature2</th>\n",
       "      <th>target</th>\n",
       "    </tr>\n",
       "  </thead>\n",
       "  <tbody>\n",
       "    <tr>\n",
       "      <th>0</th>\n",
       "      <td>-0.631108</td>\n",
       "      <td>0.271561</td>\n",
       "      <td>-30.015034</td>\n",
       "    </tr>\n",
       "    <tr>\n",
       "      <th>1</th>\n",
       "      <td>1.350815</td>\n",
       "      <td>1.767111</td>\n",
       "      <td>43.919022</td>\n",
       "    </tr>\n",
       "    <tr>\n",
       "      <th>2</th>\n",
       "      <td>-0.672152</td>\n",
       "      <td>-1.133911</td>\n",
       "      <td>-88.180465</td>\n",
       "    </tr>\n",
       "    <tr>\n",
       "      <th>3</th>\n",
       "      <td>1.208978</td>\n",
       "      <td>0.355636</td>\n",
       "      <td>-57.107524</td>\n",
       "    </tr>\n",
       "    <tr>\n",
       "      <th>4</th>\n",
       "      <td>-0.621598</td>\n",
       "      <td>-0.677691</td>\n",
       "      <td>-5.483134</td>\n",
       "    </tr>\n",
       "  </tbody>\n",
       "</table>\n",
       "</div>"
      ],
      "text/plain": [
       "   feature1  feature2     target\n",
       "0 -0.631108  0.271561 -30.015034\n",
       "1  1.350815  1.767111  43.919022\n",
       "2 -0.672152 -1.133911 -88.180465\n",
       "3  1.208978  0.355636 -57.107524\n",
       "4 -0.621598 -0.677691  -5.483134"
      ]
     },
     "execution_count": 21,
     "metadata": {},
     "output_type": "execute_result"
    }
   ],
   "source": [
    "df.head()"
   ]
  },
  {
   "cell_type": "code",
   "execution_count": 22,
   "metadata": {},
   "outputs": [
    {
     "data": {
      "application/vnd.plotly.v1+json": {
       "config": {
        "plotlyServerURL": "https://plot.ly"
       },
       "data": [
        {
         "hovertemplate": "feature1=%{x}<br>feature2=%{y}<br>target=%{z}<extra></extra>",
         "legendgroup": "",
         "marker": {
          "color": "#636efa",
          "symbol": "circle"
         },
         "mode": "markers",
         "name": "",
         "scene": "scene",
         "showlegend": false,
         "type": "scatter3d",
         "x": [
          -0.6311077064283657,
          1.3508152574465344,
          -0.6721516157961671,
          1.2089781063474776,
          -0.6215978935997826,
          0.17027705428873874,
          0.896788625060604,
          1.1199848724582953,
          -0.843816714372133,
          -1.4456587737915219,
          -1.1586234071913712,
          -0.38823517269934593,
          -0.24630488526265001,
          -0.9887836133096403,
          -0.5622979588382143,
          -2.0467871890378473,
          0.1282365346234428,
          -0.2433949676419254,
          0.8239021743264319,
          -1.2605706866355053,
          1.1600097879907976,
          -0.38496149267165664,
          0.6347584678292102,
          -0.7138171580695462,
          -0.9014849618702357,
          0.6033556501002802,
          -0.33225461374743137,
          0.49316024886319065,
          -0.661715873629182,
          0.9738222175380518,
          -1.0840561207811301,
          1.0438855364496418,
          0.5055164869649736,
          0.4305127591273505,
          0.24551387858007365,
          -1.634349451751445,
          0.6326951372101078,
          -0.8387584020837999,
          0.7147325487980245,
          -0.0727965749989395,
          -1.5842186878029914,
          -0.182497939538795,
          -1.8676775389673133,
          -0.24204382482216225,
          -1.063726607074559,
          0.7122465601274404,
          0.03875809485904267,
          0.10468419498494451,
          0.3249460039946673,
          1.399753085733947,
          0.851883028623903,
          1.122266632671691,
          -0.3984240698749949,
          0.13254300247060813,
          0.5902151923414279,
          -0.10195491262746949,
          0.6257132194590543,
          -1.6671210513187489,
          0.4265127827332215,
          0.2086910488566527,
          -0.525213470664735,
          0.5429377192473411,
          2.0022217773148085,
          1.4540599195956623,
          0.2799040036922567,
          -1.2075870165648341,
          0.4683957412866397,
          1.9859710073521812,
          0.17658799063607897,
          -0.19003850093424643,
          1.2807819075461035,
          1.8702823376329394,
          -1.5361774915552562,
          -0.6350697762234351,
          -0.14871058463188014,
          0.2637588619907264,
          1.6673864668258198,
          0.011888619054959665,
          -1.1533562870773666,
          0.48178797620017183,
          1.48471204849861,
          -1.8085489094282463,
          -0.6353684997311695,
          0.18296306858891476,
          -0.37096563096053653,
          1.478765045129713,
          -0.8051739006922161,
          0.013875529723032116,
          -0.6418099437516834,
          -0.05381930759145023,
          1.1194104058561887,
          1.7907206966991682,
          -0.2740743286630015,
          -0.6630158002664913,
          -1.2129067202591746,
          0.6514551611783945,
          0.5192013913267544,
          -0.6107843226817127,
          0.8509447300262043,
          2.3340832554761453
         ],
         "y": [
          0.2715610148259691,
          1.7671110906491998,
          -1.1339106097889884,
          0.35563613992997617,
          -0.6776906179653028,
          1.7024149606852659,
          0.47699223974519733,
          -1.1158227437707777,
          1.1743300509620351,
          1.5853245604854287,
          -0.5444755239117663,
          -0.2932904519857396,
          -0.7302620063334724,
          -0.19814557868455984,
          0.38121477472610193,
          0.8982511309887021,
          -1.2116397539634642,
          -1.589875390413656,
          -0.1094062245038582,
          -0.42794451532749983,
          0.49868870123476866,
          0.09966031141083134,
          -0.18639177520949785,
          0.4854432791785992,
          0.6550331777153736,
          -3.0006053675509743,
          -0.7344607841600147,
          -2.13245047675185,
          0.06571111316642922,
          0.27309750340179906,
          1.2980707197635433,
          -0.7086329897033888,
          0.5717444604325637,
          -0.2913681233123145,
          -1.0397640734343254,
          0.2840532046440691,
          1.2506575261025357,
          -0.5761197339649404,
          -1.1909725574825436,
          0.8972657156043191,
          2.0056044187436073,
          -0.6572642922340723,
          0.7925088235897958,
          0.8271935257391452,
          -0.5607125794495285,
          0.07820144909176475,
          -1.0538067944293241,
          -0.5182723051741461,
          -1.5090590832384165,
          0.2116194085981642,
          1.644540423431543,
          0.10387129572953435,
          0.6096164556151191,
          0.6111973536120441,
          0.118598086845756,
          1.6334325572737423,
          0.41946828520209994,
          0.05194456147649175,
          1.2788925092705705,
          -0.24521170313770396,
          0.14247818275978022,
          1.7371655056065611,
          -1.2084883167295322,
          -0.33706334944035954,
          -0.10173625328126543,
          -0.0021249485803411443,
          1.4073117099842318,
          -0.07004600472832138,
          1.172953539985245,
          -1.6810375391595573,
          2.2073267721078924,
          0.17496031734942522,
          0.9259733274434824,
          -0.15900989939724725,
          -1.1704071815437702,
          0.2833651264321131,
          -0.4060346788457308,
          -0.871005967173685,
          -0.25258805016323943,
          -0.9452232538416335,
          -0.2580306929643068,
          1.2895656338172137,
          -0.7068451692565074,
          0.7156626300524556,
          -1.0258096927021296,
          -0.07390848365663909,
          -0.15992778164758256,
          1.5930689106143856,
          0.9250356984934368,
          0.7120955860070581,
          0.670206373119748,
          -2.1895900896557783,
          0.18572632117932086,
          1.2243214071406332,
          2.2875918348311943,
          0.02696584674706376,
          -0.37122469068916025,
          -0.44968329373868837,
          -2.4923255791834023,
          -0.756328186020946
         ],
         "z": [
          -30.01503437636738,
          43.91902206235472,
          -88.18046494214968,
          -57.107524141451044,
          -5.483134353272085,
          51.941017980731495,
          -13.262959307001172,
          15.34304493418006,
          67.36769775181497,
          51.476125155932806,
          19.98087027244026,
          27.009261159546035,
          -58.789696478288754,
          -5.806899966824549,
          81.67467946668165,
          -14.175981181515159,
          -17.868776022191366,
          -79.42310525827163,
          -22.32905965458502,
          9.803381926801027,
          -72.02430373670165,
          8.413162479835004,
          -1.6108347193005477,
          -12.446675445295424,
          35.683165522809155,
          -112.6737923046615,
          97.74313873962186,
          -58.30506718165204,
          26.092072042160236,
          10.51797209132235,
          -21.081703760169397,
          16.36797565677452,
          16.15414995621003,
          43.31588884128709,
          -42.7051530093215,
          -2.121301471968866,
          85.610958431825,
          -14.494141598097853,
          22.795435785724564,
          24.56618006181769,
          39.407199197153325,
          -37.10834057710446,
          67.11535061059092,
          -17.34374206784979,
          -100.29001908211085,
          64.81237110077701,
          1.3309063678616084,
          33.997101033654346,
          -59.74485266677625,
          26.541493628714154,
          53.70494334264095,
          5.840474167336132,
          73.83865333503644,
          70.57275870126031,
          46.39181432548456,
          -21.90256960700261,
          18.310632375444236,
          61.51878850235234,
          -19.045156787159364,
          18.489356215421946,
          -39.62274862393572,
          52.80093234414654,
          -60.5985404803893,
          -21.611081120085863,
          1.5838068660031426,
          25.522737199602822,
          120.67920043526229,
          -39.66928567111768,
          -54.78544140429457,
          -15.552236856979391,
          112.64936664483344,
          90.09256296883353,
          13.513443388035393,
          4.268474521901816,
          38.833530788230384,
          -44.771049220977936,
          31.658386444039504,
          10.466579205404017,
          -74.9389309238287,
          -73.74733333417154,
          31.278774696361623,
          69.68094033875437,
          -23.445063824658742,
          42.42604292668962,
          -11.558904129258547,
          -132.08469349243856,
          -35.67716963171623,
          13.68755549861136,
          40.868288839101716,
          23.03755543364973,
          30.33510012646803,
          49.35755844263038,
          28.83230380970985,
          131.20595383827737,
          1.785809548305025,
          82.25252419205536,
          -15.233415354171168,
          -92.45099521749417,
          8.342589039437073,
          -92.56150761094865
         ]
        }
       ],
       "layout": {
        "legend": {
         "tracegroupgap": 0
        },
        "margin": {
         "t": 60
        },
        "scene": {
         "domain": {
          "x": [
           0,
           1
          ],
          "y": [
           0,
           1
          ]
         },
         "xaxis": {
          "title": {
           "text": "feature1"
          }
         },
         "yaxis": {
          "title": {
           "text": "feature2"
          }
         },
         "zaxis": {
          "title": {
           "text": "target"
          }
         }
        },
        "template": {
         "data": {
          "bar": [
           {
            "error_x": {
             "color": "#2a3f5f"
            },
            "error_y": {
             "color": "#2a3f5f"
            },
            "marker": {
             "line": {
              "color": "#E5ECF6",
              "width": 0.5
             },
             "pattern": {
              "fillmode": "overlay",
              "size": 10,
              "solidity": 0.2
             }
            },
            "type": "bar"
           }
          ],
          "barpolar": [
           {
            "marker": {
             "line": {
              "color": "#E5ECF6",
              "width": 0.5
             },
             "pattern": {
              "fillmode": "overlay",
              "size": 10,
              "solidity": 0.2
             }
            },
            "type": "barpolar"
           }
          ],
          "carpet": [
           {
            "aaxis": {
             "endlinecolor": "#2a3f5f",
             "gridcolor": "white",
             "linecolor": "white",
             "minorgridcolor": "white",
             "startlinecolor": "#2a3f5f"
            },
            "baxis": {
             "endlinecolor": "#2a3f5f",
             "gridcolor": "white",
             "linecolor": "white",
             "minorgridcolor": "white",
             "startlinecolor": "#2a3f5f"
            },
            "type": "carpet"
           }
          ],
          "choropleth": [
           {
            "colorbar": {
             "outlinewidth": 0,
             "ticks": ""
            },
            "type": "choropleth"
           }
          ],
          "contour": [
           {
            "colorbar": {
             "outlinewidth": 0,
             "ticks": ""
            },
            "colorscale": [
             [
              0,
              "#0d0887"
             ],
             [
              0.1111111111111111,
              "#46039f"
             ],
             [
              0.2222222222222222,
              "#7201a8"
             ],
             [
              0.3333333333333333,
              "#9c179e"
             ],
             [
              0.4444444444444444,
              "#bd3786"
             ],
             [
              0.5555555555555556,
              "#d8576b"
             ],
             [
              0.6666666666666666,
              "#ed7953"
             ],
             [
              0.7777777777777778,
              "#fb9f3a"
             ],
             [
              0.8888888888888888,
              "#fdca26"
             ],
             [
              1,
              "#f0f921"
             ]
            ],
            "type": "contour"
           }
          ],
          "contourcarpet": [
           {
            "colorbar": {
             "outlinewidth": 0,
             "ticks": ""
            },
            "type": "contourcarpet"
           }
          ],
          "heatmap": [
           {
            "colorbar": {
             "outlinewidth": 0,
             "ticks": ""
            },
            "colorscale": [
             [
              0,
              "#0d0887"
             ],
             [
              0.1111111111111111,
              "#46039f"
             ],
             [
              0.2222222222222222,
              "#7201a8"
             ],
             [
              0.3333333333333333,
              "#9c179e"
             ],
             [
              0.4444444444444444,
              "#bd3786"
             ],
             [
              0.5555555555555556,
              "#d8576b"
             ],
             [
              0.6666666666666666,
              "#ed7953"
             ],
             [
              0.7777777777777778,
              "#fb9f3a"
             ],
             [
              0.8888888888888888,
              "#fdca26"
             ],
             [
              1,
              "#f0f921"
             ]
            ],
            "type": "heatmap"
           }
          ],
          "heatmapgl": [
           {
            "colorbar": {
             "outlinewidth": 0,
             "ticks": ""
            },
            "colorscale": [
             [
              0,
              "#0d0887"
             ],
             [
              0.1111111111111111,
              "#46039f"
             ],
             [
              0.2222222222222222,
              "#7201a8"
             ],
             [
              0.3333333333333333,
              "#9c179e"
             ],
             [
              0.4444444444444444,
              "#bd3786"
             ],
             [
              0.5555555555555556,
              "#d8576b"
             ],
             [
              0.6666666666666666,
              "#ed7953"
             ],
             [
              0.7777777777777778,
              "#fb9f3a"
             ],
             [
              0.8888888888888888,
              "#fdca26"
             ],
             [
              1,
              "#f0f921"
             ]
            ],
            "type": "heatmapgl"
           }
          ],
          "histogram": [
           {
            "marker": {
             "pattern": {
              "fillmode": "overlay",
              "size": 10,
              "solidity": 0.2
             }
            },
            "type": "histogram"
           }
          ],
          "histogram2d": [
           {
            "colorbar": {
             "outlinewidth": 0,
             "ticks": ""
            },
            "colorscale": [
             [
              0,
              "#0d0887"
             ],
             [
              0.1111111111111111,
              "#46039f"
             ],
             [
              0.2222222222222222,
              "#7201a8"
             ],
             [
              0.3333333333333333,
              "#9c179e"
             ],
             [
              0.4444444444444444,
              "#bd3786"
             ],
             [
              0.5555555555555556,
              "#d8576b"
             ],
             [
              0.6666666666666666,
              "#ed7953"
             ],
             [
              0.7777777777777778,
              "#fb9f3a"
             ],
             [
              0.8888888888888888,
              "#fdca26"
             ],
             [
              1,
              "#f0f921"
             ]
            ],
            "type": "histogram2d"
           }
          ],
          "histogram2dcontour": [
           {
            "colorbar": {
             "outlinewidth": 0,
             "ticks": ""
            },
            "colorscale": [
             [
              0,
              "#0d0887"
             ],
             [
              0.1111111111111111,
              "#46039f"
             ],
             [
              0.2222222222222222,
              "#7201a8"
             ],
             [
              0.3333333333333333,
              "#9c179e"
             ],
             [
              0.4444444444444444,
              "#bd3786"
             ],
             [
              0.5555555555555556,
              "#d8576b"
             ],
             [
              0.6666666666666666,
              "#ed7953"
             ],
             [
              0.7777777777777778,
              "#fb9f3a"
             ],
             [
              0.8888888888888888,
              "#fdca26"
             ],
             [
              1,
              "#f0f921"
             ]
            ],
            "type": "histogram2dcontour"
           }
          ],
          "mesh3d": [
           {
            "colorbar": {
             "outlinewidth": 0,
             "ticks": ""
            },
            "type": "mesh3d"
           }
          ],
          "parcoords": [
           {
            "line": {
             "colorbar": {
              "outlinewidth": 0,
              "ticks": ""
             }
            },
            "type": "parcoords"
           }
          ],
          "pie": [
           {
            "automargin": true,
            "type": "pie"
           }
          ],
          "scatter": [
           {
            "fillpattern": {
             "fillmode": "overlay",
             "size": 10,
             "solidity": 0.2
            },
            "type": "scatter"
           }
          ],
          "scatter3d": [
           {
            "line": {
             "colorbar": {
              "outlinewidth": 0,
              "ticks": ""
             }
            },
            "marker": {
             "colorbar": {
              "outlinewidth": 0,
              "ticks": ""
             }
            },
            "type": "scatter3d"
           }
          ],
          "scattercarpet": [
           {
            "marker": {
             "colorbar": {
              "outlinewidth": 0,
              "ticks": ""
             }
            },
            "type": "scattercarpet"
           }
          ],
          "scattergeo": [
           {
            "marker": {
             "colorbar": {
              "outlinewidth": 0,
              "ticks": ""
             }
            },
            "type": "scattergeo"
           }
          ],
          "scattergl": [
           {
            "marker": {
             "colorbar": {
              "outlinewidth": 0,
              "ticks": ""
             }
            },
            "type": "scattergl"
           }
          ],
          "scattermapbox": [
           {
            "marker": {
             "colorbar": {
              "outlinewidth": 0,
              "ticks": ""
             }
            },
            "type": "scattermapbox"
           }
          ],
          "scatterpolar": [
           {
            "marker": {
             "colorbar": {
              "outlinewidth": 0,
              "ticks": ""
             }
            },
            "type": "scatterpolar"
           }
          ],
          "scatterpolargl": [
           {
            "marker": {
             "colorbar": {
              "outlinewidth": 0,
              "ticks": ""
             }
            },
            "type": "scatterpolargl"
           }
          ],
          "scatterternary": [
           {
            "marker": {
             "colorbar": {
              "outlinewidth": 0,
              "ticks": ""
             }
            },
            "type": "scatterternary"
           }
          ],
          "surface": [
           {
            "colorbar": {
             "outlinewidth": 0,
             "ticks": ""
            },
            "colorscale": [
             [
              0,
              "#0d0887"
             ],
             [
              0.1111111111111111,
              "#46039f"
             ],
             [
              0.2222222222222222,
              "#7201a8"
             ],
             [
              0.3333333333333333,
              "#9c179e"
             ],
             [
              0.4444444444444444,
              "#bd3786"
             ],
             [
              0.5555555555555556,
              "#d8576b"
             ],
             [
              0.6666666666666666,
              "#ed7953"
             ],
             [
              0.7777777777777778,
              "#fb9f3a"
             ],
             [
              0.8888888888888888,
              "#fdca26"
             ],
             [
              1,
              "#f0f921"
             ]
            ],
            "type": "surface"
           }
          ],
          "table": [
           {
            "cells": {
             "fill": {
              "color": "#EBF0F8"
             },
             "line": {
              "color": "white"
             }
            },
            "header": {
             "fill": {
              "color": "#C8D4E3"
             },
             "line": {
              "color": "white"
             }
            },
            "type": "table"
           }
          ]
         },
         "layout": {
          "annotationdefaults": {
           "arrowcolor": "#2a3f5f",
           "arrowhead": 0,
           "arrowwidth": 1
          },
          "autotypenumbers": "strict",
          "coloraxis": {
           "colorbar": {
            "outlinewidth": 0,
            "ticks": ""
           }
          },
          "colorscale": {
           "diverging": [
            [
             0,
             "#8e0152"
            ],
            [
             0.1,
             "#c51b7d"
            ],
            [
             0.2,
             "#de77ae"
            ],
            [
             0.3,
             "#f1b6da"
            ],
            [
             0.4,
             "#fde0ef"
            ],
            [
             0.5,
             "#f7f7f7"
            ],
            [
             0.6,
             "#e6f5d0"
            ],
            [
             0.7,
             "#b8e186"
            ],
            [
             0.8,
             "#7fbc41"
            ],
            [
             0.9,
             "#4d9221"
            ],
            [
             1,
             "#276419"
            ]
           ],
           "sequential": [
            [
             0,
             "#0d0887"
            ],
            [
             0.1111111111111111,
             "#46039f"
            ],
            [
             0.2222222222222222,
             "#7201a8"
            ],
            [
             0.3333333333333333,
             "#9c179e"
            ],
            [
             0.4444444444444444,
             "#bd3786"
            ],
            [
             0.5555555555555556,
             "#d8576b"
            ],
            [
             0.6666666666666666,
             "#ed7953"
            ],
            [
             0.7777777777777778,
             "#fb9f3a"
            ],
            [
             0.8888888888888888,
             "#fdca26"
            ],
            [
             1,
             "#f0f921"
            ]
           ],
           "sequentialminus": [
            [
             0,
             "#0d0887"
            ],
            [
             0.1111111111111111,
             "#46039f"
            ],
            [
             0.2222222222222222,
             "#7201a8"
            ],
            [
             0.3333333333333333,
             "#9c179e"
            ],
            [
             0.4444444444444444,
             "#bd3786"
            ],
            [
             0.5555555555555556,
             "#d8576b"
            ],
            [
             0.6666666666666666,
             "#ed7953"
            ],
            [
             0.7777777777777778,
             "#fb9f3a"
            ],
            [
             0.8888888888888888,
             "#fdca26"
            ],
            [
             1,
             "#f0f921"
            ]
           ]
          },
          "colorway": [
           "#636efa",
           "#EF553B",
           "#00cc96",
           "#ab63fa",
           "#FFA15A",
           "#19d3f3",
           "#FF6692",
           "#B6E880",
           "#FF97FF",
           "#FECB52"
          ],
          "font": {
           "color": "#2a3f5f"
          },
          "geo": {
           "bgcolor": "white",
           "lakecolor": "white",
           "landcolor": "#E5ECF6",
           "showlakes": true,
           "showland": true,
           "subunitcolor": "white"
          },
          "hoverlabel": {
           "align": "left"
          },
          "hovermode": "closest",
          "mapbox": {
           "style": "light"
          },
          "paper_bgcolor": "white",
          "plot_bgcolor": "#E5ECF6",
          "polar": {
           "angularaxis": {
            "gridcolor": "white",
            "linecolor": "white",
            "ticks": ""
           },
           "bgcolor": "#E5ECF6",
           "radialaxis": {
            "gridcolor": "white",
            "linecolor": "white",
            "ticks": ""
           }
          },
          "scene": {
           "xaxis": {
            "backgroundcolor": "#E5ECF6",
            "gridcolor": "white",
            "gridwidth": 2,
            "linecolor": "white",
            "showbackground": true,
            "ticks": "",
            "zerolinecolor": "white"
           },
           "yaxis": {
            "backgroundcolor": "#E5ECF6",
            "gridcolor": "white",
            "gridwidth": 2,
            "linecolor": "white",
            "showbackground": true,
            "ticks": "",
            "zerolinecolor": "white"
           },
           "zaxis": {
            "backgroundcolor": "#E5ECF6",
            "gridcolor": "white",
            "gridwidth": 2,
            "linecolor": "white",
            "showbackground": true,
            "ticks": "",
            "zerolinecolor": "white"
           }
          },
          "shapedefaults": {
           "line": {
            "color": "#2a3f5f"
           }
          },
          "ternary": {
           "aaxis": {
            "gridcolor": "white",
            "linecolor": "white",
            "ticks": ""
           },
           "baxis": {
            "gridcolor": "white",
            "linecolor": "white",
            "ticks": ""
           },
           "bgcolor": "#E5ECF6",
           "caxis": {
            "gridcolor": "white",
            "linecolor": "white",
            "ticks": ""
           }
          },
          "title": {
           "x": 0.05
          },
          "xaxis": {
           "automargin": true,
           "gridcolor": "white",
           "linecolor": "white",
           "ticks": "",
           "title": {
            "standoff": 15
           },
           "zerolinecolor": "white",
           "zerolinewidth": 2
          },
          "yaxis": {
           "automargin": true,
           "gridcolor": "white",
           "linecolor": "white",
           "ticks": "",
           "title": {
            "standoff": 15
           },
           "zerolinecolor": "white",
           "zerolinewidth": 2
          }
         }
        }
       }
      }
     },
     "metadata": {},
     "output_type": "display_data"
    }
   ],
   "source": [
    "fig = px.scatter_3d(df, x='feature1', y='feature2', z='target')\n",
    "fig.show()"
   ]
  },
  {
   "cell_type": "code",
   "execution_count": 23,
   "metadata": {},
   "outputs": [],
   "source": [
    "from sklearn.model_selection import train_test_split"
   ]
  },
  {
   "cell_type": "code",
   "execution_count": 24,
   "metadata": {},
   "outputs": [],
   "source": [
    "X_train, X_test, y_train, y_test = train_test_split(X,y, test_size=0.2, random_state=3)"
   ]
  },
  {
   "cell_type": "code",
   "execution_count": 25,
   "metadata": {},
   "outputs": [],
   "source": [
    "from sklearn.linear_model import LinearRegression"
   ]
  },
  {
   "cell_type": "code",
   "execution_count": 26,
   "metadata": {},
   "outputs": [],
   "source": [
    "lr = LinearRegression()"
   ]
  },
  {
   "cell_type": "code",
   "execution_count": 27,
   "metadata": {},
   "outputs": [
    {
     "data": {
      "text/html": [
       "<style>#sk-container-id-2 {color: black;}#sk-container-id-2 pre{padding: 0;}#sk-container-id-2 div.sk-toggleable {background-color: white;}#sk-container-id-2 label.sk-toggleable__label {cursor: pointer;display: block;width: 100%;margin-bottom: 0;padding: 0.3em;box-sizing: border-box;text-align: center;}#sk-container-id-2 label.sk-toggleable__label-arrow:before {content: \"▸\";float: left;margin-right: 0.25em;color: #696969;}#sk-container-id-2 label.sk-toggleable__label-arrow:hover:before {color: black;}#sk-container-id-2 div.sk-estimator:hover label.sk-toggleable__label-arrow:before {color: black;}#sk-container-id-2 div.sk-toggleable__content {max-height: 0;max-width: 0;overflow: hidden;text-align: left;background-color: #f0f8ff;}#sk-container-id-2 div.sk-toggleable__content pre {margin: 0.2em;color: black;border-radius: 0.25em;background-color: #f0f8ff;}#sk-container-id-2 input.sk-toggleable__control:checked~div.sk-toggleable__content {max-height: 200px;max-width: 100%;overflow: auto;}#sk-container-id-2 input.sk-toggleable__control:checked~label.sk-toggleable__label-arrow:before {content: \"▾\";}#sk-container-id-2 div.sk-estimator input.sk-toggleable__control:checked~label.sk-toggleable__label {background-color: #d4ebff;}#sk-container-id-2 div.sk-label input.sk-toggleable__control:checked~label.sk-toggleable__label {background-color: #d4ebff;}#sk-container-id-2 input.sk-hidden--visually {border: 0;clip: rect(1px 1px 1px 1px);clip: rect(1px, 1px, 1px, 1px);height: 1px;margin: -1px;overflow: hidden;padding: 0;position: absolute;width: 1px;}#sk-container-id-2 div.sk-estimator {font-family: monospace;background-color: #f0f8ff;border: 1px dotted black;border-radius: 0.25em;box-sizing: border-box;margin-bottom: 0.5em;}#sk-container-id-2 div.sk-estimator:hover {background-color: #d4ebff;}#sk-container-id-2 div.sk-parallel-item::after {content: \"\";width: 100%;border-bottom: 1px solid gray;flex-grow: 1;}#sk-container-id-2 div.sk-label:hover label.sk-toggleable__label {background-color: #d4ebff;}#sk-container-id-2 div.sk-serial::before {content: \"\";position: absolute;border-left: 1px solid gray;box-sizing: border-box;top: 0;bottom: 0;left: 50%;z-index: 0;}#sk-container-id-2 div.sk-serial {display: flex;flex-direction: column;align-items: center;background-color: white;padding-right: 0.2em;padding-left: 0.2em;position: relative;}#sk-container-id-2 div.sk-item {position: relative;z-index: 1;}#sk-container-id-2 div.sk-parallel {display: flex;align-items: stretch;justify-content: center;background-color: white;position: relative;}#sk-container-id-2 div.sk-item::before, #sk-container-id-2 div.sk-parallel-item::before {content: \"\";position: absolute;border-left: 1px solid gray;box-sizing: border-box;top: 0;bottom: 0;left: 50%;z-index: -1;}#sk-container-id-2 div.sk-parallel-item {display: flex;flex-direction: column;z-index: 1;position: relative;background-color: white;}#sk-container-id-2 div.sk-parallel-item:first-child::after {align-self: flex-end;width: 50%;}#sk-container-id-2 div.sk-parallel-item:last-child::after {align-self: flex-start;width: 50%;}#sk-container-id-2 div.sk-parallel-item:only-child::after {width: 0;}#sk-container-id-2 div.sk-dashed-wrapped {border: 1px dashed gray;margin: 0 0.4em 0.5em 0.4em;box-sizing: border-box;padding-bottom: 0.4em;background-color: white;}#sk-container-id-2 div.sk-label label {font-family: monospace;font-weight: bold;display: inline-block;line-height: 1.2em;}#sk-container-id-2 div.sk-label-container {text-align: center;}#sk-container-id-2 div.sk-container {/* jupyter's `normalize.less` sets `[hidden] { display: none; }` but bootstrap.min.css set `[hidden] { display: none !important; }` so we also need the `!important` here to be able to override the default hidden behavior on the sphinx rendered scikit-learn.org. See: https://github.com/scikit-learn/scikit-learn/issues/21755 */display: inline-block !important;position: relative;}#sk-container-id-2 div.sk-text-repr-fallback {display: none;}</style><div id=\"sk-container-id-2\" class=\"sk-top-container\"><div class=\"sk-text-repr-fallback\"><pre>LinearRegression()</pre><b>In a Jupyter environment, please rerun this cell to show the HTML representation or trust the notebook. <br />On GitHub, the HTML representation is unable to render, please try loading this page with nbviewer.org.</b></div><div class=\"sk-container\" hidden><div class=\"sk-item\"><div class=\"sk-estimator sk-toggleable\"><input class=\"sk-toggleable__control sk-hidden--visually\" id=\"sk-estimator-id-2\" type=\"checkbox\" checked><label for=\"sk-estimator-id-2\" class=\"sk-toggleable__label sk-toggleable__label-arrow\">LinearRegression</label><div class=\"sk-toggleable__content\"><pre>LinearRegression()</pre></div></div></div></div></div>"
      ],
      "text/plain": [
       "LinearRegression()"
      ]
     },
     "execution_count": 27,
     "metadata": {},
     "output_type": "execute_result"
    }
   ],
   "source": [
    "lr.fit(X_train, y_train)"
   ]
  },
  {
   "cell_type": "code",
   "execution_count": 28,
   "metadata": {},
   "outputs": [],
   "source": [
    "y_pred = lr.predict(X_test)"
   ]
  },
  {
   "cell_type": "code",
   "execution_count": 29,
   "metadata": {},
   "outputs": [],
   "source": [
    "from sklearn.metrics import mean_absolute_error, mean_squared_error, r2_score"
   ]
  },
  {
   "cell_type": "code",
   "execution_count": 30,
   "metadata": {},
   "outputs": [
    {
     "name": "stdout",
     "output_type": "stream",
     "text": [
      "Mean Absolute Error is: 40.39528077009198\n",
      "Mean Squared Error is: 2339.2503643146356\n",
      "R2 Score is: 0.2984219964279051\n"
     ]
    }
   ],
   "source": [
    "print('Mean Absolute Error is:', mean_absolute_error(y_test, y_pred))\n",
    "print('Mean Squared Error is:', mean_squared_error(y_test, y_pred))\n",
    "print('R2 Score is:', r2_score(y_test, y_pred))"
   ]
  },
  {
   "cell_type": "code",
   "execution_count": 31,
   "metadata": {},
   "outputs": [],
   "source": [
    "x = np.linspace(-5, 5, 10)\n",
    "y = np.linspace(-5, 5, 10)\n",
    "xGrid, yGrid = np.meshgrid(y, x)\n",
    "\n",
    "final = np.vstack((xGrid.ravel().reshape(1,100),yGrid.ravel().reshape(1,100))).T\n",
    "z_final = lr.predict(final).reshape(10,10)\n",
    "z = z_final"
   ]
  },
  {
   "cell_type": "code",
   "execution_count": 32,
   "metadata": {},
   "outputs": [
    {
     "data": {
      "application/vnd.plotly.v1+json": {
       "config": {
        "plotlyServerURL": "https://plot.ly"
       },
       "data": [
        {
         "hovertemplate": "feature1=%{x}<br>feature2=%{y}<br>target=%{z}<extra></extra>",
         "legendgroup": "",
         "marker": {
          "color": "#636efa",
          "symbol": "circle"
         },
         "mode": "markers",
         "name": "",
         "scene": "scene",
         "showlegend": false,
         "type": "scatter3d",
         "x": [
          -0.6311077064283657,
          1.3508152574465344,
          -0.6721516157961671,
          1.2089781063474776,
          -0.6215978935997826,
          0.17027705428873874,
          0.896788625060604,
          1.1199848724582953,
          -0.843816714372133,
          -1.4456587737915219,
          -1.1586234071913712,
          -0.38823517269934593,
          -0.24630488526265001,
          -0.9887836133096403,
          -0.5622979588382143,
          -2.0467871890378473,
          0.1282365346234428,
          -0.2433949676419254,
          0.8239021743264319,
          -1.2605706866355053,
          1.1600097879907976,
          -0.38496149267165664,
          0.6347584678292102,
          -0.7138171580695462,
          -0.9014849618702357,
          0.6033556501002802,
          -0.33225461374743137,
          0.49316024886319065,
          -0.661715873629182,
          0.9738222175380518,
          -1.0840561207811301,
          1.0438855364496418,
          0.5055164869649736,
          0.4305127591273505,
          0.24551387858007365,
          -1.634349451751445,
          0.6326951372101078,
          -0.8387584020837999,
          0.7147325487980245,
          -0.0727965749989395,
          -1.5842186878029914,
          -0.182497939538795,
          -1.8676775389673133,
          -0.24204382482216225,
          -1.063726607074559,
          0.7122465601274404,
          0.03875809485904267,
          0.10468419498494451,
          0.3249460039946673,
          1.399753085733947,
          0.851883028623903,
          1.122266632671691,
          -0.3984240698749949,
          0.13254300247060813,
          0.5902151923414279,
          -0.10195491262746949,
          0.6257132194590543,
          -1.6671210513187489,
          0.4265127827332215,
          0.2086910488566527,
          -0.525213470664735,
          0.5429377192473411,
          2.0022217773148085,
          1.4540599195956623,
          0.2799040036922567,
          -1.2075870165648341,
          0.4683957412866397,
          1.9859710073521812,
          0.17658799063607897,
          -0.19003850093424643,
          1.2807819075461035,
          1.8702823376329394,
          -1.5361774915552562,
          -0.6350697762234351,
          -0.14871058463188014,
          0.2637588619907264,
          1.6673864668258198,
          0.011888619054959665,
          -1.1533562870773666,
          0.48178797620017183,
          1.48471204849861,
          -1.8085489094282463,
          -0.6353684997311695,
          0.18296306858891476,
          -0.37096563096053653,
          1.478765045129713,
          -0.8051739006922161,
          0.013875529723032116,
          -0.6418099437516834,
          -0.05381930759145023,
          1.1194104058561887,
          1.7907206966991682,
          -0.2740743286630015,
          -0.6630158002664913,
          -1.2129067202591746,
          0.6514551611783945,
          0.5192013913267544,
          -0.6107843226817127,
          0.8509447300262043,
          2.3340832554761453
         ],
         "y": [
          0.2715610148259691,
          1.7671110906491998,
          -1.1339106097889884,
          0.35563613992997617,
          -0.6776906179653028,
          1.7024149606852659,
          0.47699223974519733,
          -1.1158227437707777,
          1.1743300509620351,
          1.5853245604854287,
          -0.5444755239117663,
          -0.2932904519857396,
          -0.7302620063334724,
          -0.19814557868455984,
          0.38121477472610193,
          0.8982511309887021,
          -1.2116397539634642,
          -1.589875390413656,
          -0.1094062245038582,
          -0.42794451532749983,
          0.49868870123476866,
          0.09966031141083134,
          -0.18639177520949785,
          0.4854432791785992,
          0.6550331777153736,
          -3.0006053675509743,
          -0.7344607841600147,
          -2.13245047675185,
          0.06571111316642922,
          0.27309750340179906,
          1.2980707197635433,
          -0.7086329897033888,
          0.5717444604325637,
          -0.2913681233123145,
          -1.0397640734343254,
          0.2840532046440691,
          1.2506575261025357,
          -0.5761197339649404,
          -1.1909725574825436,
          0.8972657156043191,
          2.0056044187436073,
          -0.6572642922340723,
          0.7925088235897958,
          0.8271935257391452,
          -0.5607125794495285,
          0.07820144909176475,
          -1.0538067944293241,
          -0.5182723051741461,
          -1.5090590832384165,
          0.2116194085981642,
          1.644540423431543,
          0.10387129572953435,
          0.6096164556151191,
          0.6111973536120441,
          0.118598086845756,
          1.6334325572737423,
          0.41946828520209994,
          0.05194456147649175,
          1.2788925092705705,
          -0.24521170313770396,
          0.14247818275978022,
          1.7371655056065611,
          -1.2084883167295322,
          -0.33706334944035954,
          -0.10173625328126543,
          -0.0021249485803411443,
          1.4073117099842318,
          -0.07004600472832138,
          1.172953539985245,
          -1.6810375391595573,
          2.2073267721078924,
          0.17496031734942522,
          0.9259733274434824,
          -0.15900989939724725,
          -1.1704071815437702,
          0.2833651264321131,
          -0.4060346788457308,
          -0.871005967173685,
          -0.25258805016323943,
          -0.9452232538416335,
          -0.2580306929643068,
          1.2895656338172137,
          -0.7068451692565074,
          0.7156626300524556,
          -1.0258096927021296,
          -0.07390848365663909,
          -0.15992778164758256,
          1.5930689106143856,
          0.9250356984934368,
          0.7120955860070581,
          0.670206373119748,
          -2.1895900896557783,
          0.18572632117932086,
          1.2243214071406332,
          2.2875918348311943,
          0.02696584674706376,
          -0.37122469068916025,
          -0.44968329373868837,
          -2.4923255791834023,
          -0.756328186020946
         ],
         "z": [
          -30.01503437636738,
          43.91902206235472,
          -88.18046494214968,
          -57.107524141451044,
          -5.483134353272085,
          51.941017980731495,
          -13.262959307001172,
          15.34304493418006,
          67.36769775181497,
          51.476125155932806,
          19.98087027244026,
          27.009261159546035,
          -58.789696478288754,
          -5.806899966824549,
          81.67467946668165,
          -14.175981181515159,
          -17.868776022191366,
          -79.42310525827163,
          -22.32905965458502,
          9.803381926801027,
          -72.02430373670165,
          8.413162479835004,
          -1.6108347193005477,
          -12.446675445295424,
          35.683165522809155,
          -112.6737923046615,
          97.74313873962186,
          -58.30506718165204,
          26.092072042160236,
          10.51797209132235,
          -21.081703760169397,
          16.36797565677452,
          16.15414995621003,
          43.31588884128709,
          -42.7051530093215,
          -2.121301471968866,
          85.610958431825,
          -14.494141598097853,
          22.795435785724564,
          24.56618006181769,
          39.407199197153325,
          -37.10834057710446,
          67.11535061059092,
          -17.34374206784979,
          -100.29001908211085,
          64.81237110077701,
          1.3309063678616084,
          33.997101033654346,
          -59.74485266677625,
          26.541493628714154,
          53.70494334264095,
          5.840474167336132,
          73.83865333503644,
          70.57275870126031,
          46.39181432548456,
          -21.90256960700261,
          18.310632375444236,
          61.51878850235234,
          -19.045156787159364,
          18.489356215421946,
          -39.62274862393572,
          52.80093234414654,
          -60.5985404803893,
          -21.611081120085863,
          1.5838068660031426,
          25.522737199602822,
          120.67920043526229,
          -39.66928567111768,
          -54.78544140429457,
          -15.552236856979391,
          112.64936664483344,
          90.09256296883353,
          13.513443388035393,
          4.268474521901816,
          38.833530788230384,
          -44.771049220977936,
          31.658386444039504,
          10.466579205404017,
          -74.9389309238287,
          -73.74733333417154,
          31.278774696361623,
          69.68094033875437,
          -23.445063824658742,
          42.42604292668962,
          -11.558904129258547,
          -132.08469349243856,
          -35.67716963171623,
          13.68755549861136,
          40.868288839101716,
          23.03755543364973,
          30.33510012646803,
          49.35755844263038,
          28.83230380970985,
          131.20595383827737,
          1.785809548305025,
          82.25252419205536,
          -15.233415354171168,
          -92.45099521749417,
          8.342589039437073,
          -92.56150761094865
         ]
        },
        {
         "type": "surface",
         "x": [
          -5,
          -3.888888888888889,
          -2.7777777777777777,
          -1.6666666666666665,
          -0.5555555555555554,
          0.5555555555555554,
          1.666666666666667,
          2.7777777777777786,
          3.8888888888888893,
          5
         ],
         "y": [
          -5,
          -3.888888888888889,
          -2.7777777777777777,
          -1.6666666666666665,
          -0.5555555555555554,
          0.5555555555555554,
          1.666666666666667,
          2.7777777777777786,
          3.8888888888888893,
          5
         ],
         "z": [
          [
           -98.72968675813814,
           -98.82982608198655,
           -98.92996540583498,
           -99.03010472968339,
           -99.1302440535318,
           -99.23038337738022,
           -99.33052270122863,
           -99.43066202507704,
           -99.53080134892546,
           -99.63094067277387
          ],
          [
           -75.72378921984591,
           -75.82392854369432,
           -75.92406786754275,
           -76.02420719139116,
           -76.12434651523957,
           -76.22448583908799,
           -76.3246251629364,
           -76.42476448678481,
           -76.52490381063323,
           -76.62504313448164
          ],
          [
           -52.7178916815537,
           -52.81803100540212,
           -52.91817032925053,
           -53.018309653098946,
           -53.11844897694736,
           -53.21858830079577,
           -53.31872762464419,
           -53.41886694849261,
           -53.51900627234102,
           -53.61914559618943
          ],
          [
           -29.711994143261485,
           -29.812133467109902,
           -29.912272790958312,
           -30.01241211480673,
           -30.112551438655146,
           -30.212690762503556,
           -30.312830086351973,
           -30.41296941020039,
           -30.5131087340488,
           -30.613248057897216
          ],
          [
           -6.706096604969266,
           -6.80623592881768,
           -6.906375252666095,
           -7.00651457651451,
           -7.106653900362925,
           -7.206793224211339,
           -7.306932548059754,
           -7.407071871908169,
           -7.507211195756584,
           -7.6073505196049975
          ],
          [
           16.299800933322942,
           16.199661609474532,
           16.099522285626115,
           15.9993829617777,
           15.899243637929285,
           15.799104314080871,
           15.698964990232456,
           15.598825666384041,
           15.498686342535626,
           15.398547018687212
          ],
          [
           39.30569847161517,
           39.205559147766756,
           39.105419823918346,
           39.00528050006993,
           38.90514117622151,
           38.8050018523731,
           38.704862528524686,
           38.60472320467627,
           38.50458388082786,
           38.40444455697944
          ],
          [
           62.3115960099074,
           62.21145668605898,
           62.11131736221057,
           62.011178038362154,
           61.91103871451374,
           61.81089939066533,
           61.71076006681691,
           61.61062074296849,
           61.51048141912008,
           61.410342095271666
          ],
          [
           85.31749354819961,
           85.2173542243512,
           85.11721490050277,
           85.01707557665436,
           84.91693625280595,
           84.81679692895753,
           84.71665760510912,
           84.61651828126071,
           84.51637895741229,
           84.41623963356388
          ],
          [
           108.32339108649182,
           108.22325176264341,
           108.12311243879499,
           108.02297311494658,
           107.92283379109817,
           107.82269446724975,
           107.72255514340134,
           107.62241581955293,
           107.5222764957045,
           107.4221371718561
          ]
         ]
        }
       ],
       "layout": {
        "legend": {
         "tracegroupgap": 0
        },
        "margin": {
         "t": 60
        },
        "scene": {
         "domain": {
          "x": [
           0,
           1
          ],
          "y": [
           0,
           1
          ]
         },
         "xaxis": {
          "title": {
           "text": "feature1"
          }
         },
         "yaxis": {
          "title": {
           "text": "feature2"
          }
         },
         "zaxis": {
          "title": {
           "text": "target"
          }
         }
        },
        "template": {
         "data": {
          "bar": [
           {
            "error_x": {
             "color": "#2a3f5f"
            },
            "error_y": {
             "color": "#2a3f5f"
            },
            "marker": {
             "line": {
              "color": "#E5ECF6",
              "width": 0.5
             },
             "pattern": {
              "fillmode": "overlay",
              "size": 10,
              "solidity": 0.2
             }
            },
            "type": "bar"
           }
          ],
          "barpolar": [
           {
            "marker": {
             "line": {
              "color": "#E5ECF6",
              "width": 0.5
             },
             "pattern": {
              "fillmode": "overlay",
              "size": 10,
              "solidity": 0.2
             }
            },
            "type": "barpolar"
           }
          ],
          "carpet": [
           {
            "aaxis": {
             "endlinecolor": "#2a3f5f",
             "gridcolor": "white",
             "linecolor": "white",
             "minorgridcolor": "white",
             "startlinecolor": "#2a3f5f"
            },
            "baxis": {
             "endlinecolor": "#2a3f5f",
             "gridcolor": "white",
             "linecolor": "white",
             "minorgridcolor": "white",
             "startlinecolor": "#2a3f5f"
            },
            "type": "carpet"
           }
          ],
          "choropleth": [
           {
            "colorbar": {
             "outlinewidth": 0,
             "ticks": ""
            },
            "type": "choropleth"
           }
          ],
          "contour": [
           {
            "colorbar": {
             "outlinewidth": 0,
             "ticks": ""
            },
            "colorscale": [
             [
              0,
              "#0d0887"
             ],
             [
              0.1111111111111111,
              "#46039f"
             ],
             [
              0.2222222222222222,
              "#7201a8"
             ],
             [
              0.3333333333333333,
              "#9c179e"
             ],
             [
              0.4444444444444444,
              "#bd3786"
             ],
             [
              0.5555555555555556,
              "#d8576b"
             ],
             [
              0.6666666666666666,
              "#ed7953"
             ],
             [
              0.7777777777777778,
              "#fb9f3a"
             ],
             [
              0.8888888888888888,
              "#fdca26"
             ],
             [
              1,
              "#f0f921"
             ]
            ],
            "type": "contour"
           }
          ],
          "contourcarpet": [
           {
            "colorbar": {
             "outlinewidth": 0,
             "ticks": ""
            },
            "type": "contourcarpet"
           }
          ],
          "heatmap": [
           {
            "colorbar": {
             "outlinewidth": 0,
             "ticks": ""
            },
            "colorscale": [
             [
              0,
              "#0d0887"
             ],
             [
              0.1111111111111111,
              "#46039f"
             ],
             [
              0.2222222222222222,
              "#7201a8"
             ],
             [
              0.3333333333333333,
              "#9c179e"
             ],
             [
              0.4444444444444444,
              "#bd3786"
             ],
             [
              0.5555555555555556,
              "#d8576b"
             ],
             [
              0.6666666666666666,
              "#ed7953"
             ],
             [
              0.7777777777777778,
              "#fb9f3a"
             ],
             [
              0.8888888888888888,
              "#fdca26"
             ],
             [
              1,
              "#f0f921"
             ]
            ],
            "type": "heatmap"
           }
          ],
          "heatmapgl": [
           {
            "colorbar": {
             "outlinewidth": 0,
             "ticks": ""
            },
            "colorscale": [
             [
              0,
              "#0d0887"
             ],
             [
              0.1111111111111111,
              "#46039f"
             ],
             [
              0.2222222222222222,
              "#7201a8"
             ],
             [
              0.3333333333333333,
              "#9c179e"
             ],
             [
              0.4444444444444444,
              "#bd3786"
             ],
             [
              0.5555555555555556,
              "#d8576b"
             ],
             [
              0.6666666666666666,
              "#ed7953"
             ],
             [
              0.7777777777777778,
              "#fb9f3a"
             ],
             [
              0.8888888888888888,
              "#fdca26"
             ],
             [
              1,
              "#f0f921"
             ]
            ],
            "type": "heatmapgl"
           }
          ],
          "histogram": [
           {
            "marker": {
             "pattern": {
              "fillmode": "overlay",
              "size": 10,
              "solidity": 0.2
             }
            },
            "type": "histogram"
           }
          ],
          "histogram2d": [
           {
            "colorbar": {
             "outlinewidth": 0,
             "ticks": ""
            },
            "colorscale": [
             [
              0,
              "#0d0887"
             ],
             [
              0.1111111111111111,
              "#46039f"
             ],
             [
              0.2222222222222222,
              "#7201a8"
             ],
             [
              0.3333333333333333,
              "#9c179e"
             ],
             [
              0.4444444444444444,
              "#bd3786"
             ],
             [
              0.5555555555555556,
              "#d8576b"
             ],
             [
              0.6666666666666666,
              "#ed7953"
             ],
             [
              0.7777777777777778,
              "#fb9f3a"
             ],
             [
              0.8888888888888888,
              "#fdca26"
             ],
             [
              1,
              "#f0f921"
             ]
            ],
            "type": "histogram2d"
           }
          ],
          "histogram2dcontour": [
           {
            "colorbar": {
             "outlinewidth": 0,
             "ticks": ""
            },
            "colorscale": [
             [
              0,
              "#0d0887"
             ],
             [
              0.1111111111111111,
              "#46039f"
             ],
             [
              0.2222222222222222,
              "#7201a8"
             ],
             [
              0.3333333333333333,
              "#9c179e"
             ],
             [
              0.4444444444444444,
              "#bd3786"
             ],
             [
              0.5555555555555556,
              "#d8576b"
             ],
             [
              0.6666666666666666,
              "#ed7953"
             ],
             [
              0.7777777777777778,
              "#fb9f3a"
             ],
             [
              0.8888888888888888,
              "#fdca26"
             ],
             [
              1,
              "#f0f921"
             ]
            ],
            "type": "histogram2dcontour"
           }
          ],
          "mesh3d": [
           {
            "colorbar": {
             "outlinewidth": 0,
             "ticks": ""
            },
            "type": "mesh3d"
           }
          ],
          "parcoords": [
           {
            "line": {
             "colorbar": {
              "outlinewidth": 0,
              "ticks": ""
             }
            },
            "type": "parcoords"
           }
          ],
          "pie": [
           {
            "automargin": true,
            "type": "pie"
           }
          ],
          "scatter": [
           {
            "fillpattern": {
             "fillmode": "overlay",
             "size": 10,
             "solidity": 0.2
            },
            "type": "scatter"
           }
          ],
          "scatter3d": [
           {
            "line": {
             "colorbar": {
              "outlinewidth": 0,
              "ticks": ""
             }
            },
            "marker": {
             "colorbar": {
              "outlinewidth": 0,
              "ticks": ""
             }
            },
            "type": "scatter3d"
           }
          ],
          "scattercarpet": [
           {
            "marker": {
             "colorbar": {
              "outlinewidth": 0,
              "ticks": ""
             }
            },
            "type": "scattercarpet"
           }
          ],
          "scattergeo": [
           {
            "marker": {
             "colorbar": {
              "outlinewidth": 0,
              "ticks": ""
             }
            },
            "type": "scattergeo"
           }
          ],
          "scattergl": [
           {
            "marker": {
             "colorbar": {
              "outlinewidth": 0,
              "ticks": ""
             }
            },
            "type": "scattergl"
           }
          ],
          "scattermapbox": [
           {
            "marker": {
             "colorbar": {
              "outlinewidth": 0,
              "ticks": ""
             }
            },
            "type": "scattermapbox"
           }
          ],
          "scatterpolar": [
           {
            "marker": {
             "colorbar": {
              "outlinewidth": 0,
              "ticks": ""
             }
            },
            "type": "scatterpolar"
           }
          ],
          "scatterpolargl": [
           {
            "marker": {
             "colorbar": {
              "outlinewidth": 0,
              "ticks": ""
             }
            },
            "type": "scatterpolargl"
           }
          ],
          "scatterternary": [
           {
            "marker": {
             "colorbar": {
              "outlinewidth": 0,
              "ticks": ""
             }
            },
            "type": "scatterternary"
           }
          ],
          "surface": [
           {
            "colorbar": {
             "outlinewidth": 0,
             "ticks": ""
            },
            "colorscale": [
             [
              0,
              "#0d0887"
             ],
             [
              0.1111111111111111,
              "#46039f"
             ],
             [
              0.2222222222222222,
              "#7201a8"
             ],
             [
              0.3333333333333333,
              "#9c179e"
             ],
             [
              0.4444444444444444,
              "#bd3786"
             ],
             [
              0.5555555555555556,
              "#d8576b"
             ],
             [
              0.6666666666666666,
              "#ed7953"
             ],
             [
              0.7777777777777778,
              "#fb9f3a"
             ],
             [
              0.8888888888888888,
              "#fdca26"
             ],
             [
              1,
              "#f0f921"
             ]
            ],
            "type": "surface"
           }
          ],
          "table": [
           {
            "cells": {
             "fill": {
              "color": "#EBF0F8"
             },
             "line": {
              "color": "white"
             }
            },
            "header": {
             "fill": {
              "color": "#C8D4E3"
             },
             "line": {
              "color": "white"
             }
            },
            "type": "table"
           }
          ]
         },
         "layout": {
          "annotationdefaults": {
           "arrowcolor": "#2a3f5f",
           "arrowhead": 0,
           "arrowwidth": 1
          },
          "autotypenumbers": "strict",
          "coloraxis": {
           "colorbar": {
            "outlinewidth": 0,
            "ticks": ""
           }
          },
          "colorscale": {
           "diverging": [
            [
             0,
             "#8e0152"
            ],
            [
             0.1,
             "#c51b7d"
            ],
            [
             0.2,
             "#de77ae"
            ],
            [
             0.3,
             "#f1b6da"
            ],
            [
             0.4,
             "#fde0ef"
            ],
            [
             0.5,
             "#f7f7f7"
            ],
            [
             0.6,
             "#e6f5d0"
            ],
            [
             0.7,
             "#b8e186"
            ],
            [
             0.8,
             "#7fbc41"
            ],
            [
             0.9,
             "#4d9221"
            ],
            [
             1,
             "#276419"
            ]
           ],
           "sequential": [
            [
             0,
             "#0d0887"
            ],
            [
             0.1111111111111111,
             "#46039f"
            ],
            [
             0.2222222222222222,
             "#7201a8"
            ],
            [
             0.3333333333333333,
             "#9c179e"
            ],
            [
             0.4444444444444444,
             "#bd3786"
            ],
            [
             0.5555555555555556,
             "#d8576b"
            ],
            [
             0.6666666666666666,
             "#ed7953"
            ],
            [
             0.7777777777777778,
             "#fb9f3a"
            ],
            [
             0.8888888888888888,
             "#fdca26"
            ],
            [
             1,
             "#f0f921"
            ]
           ],
           "sequentialminus": [
            [
             0,
             "#0d0887"
            ],
            [
             0.1111111111111111,
             "#46039f"
            ],
            [
             0.2222222222222222,
             "#7201a8"
            ],
            [
             0.3333333333333333,
             "#9c179e"
            ],
            [
             0.4444444444444444,
             "#bd3786"
            ],
            [
             0.5555555555555556,
             "#d8576b"
            ],
            [
             0.6666666666666666,
             "#ed7953"
            ],
            [
             0.7777777777777778,
             "#fb9f3a"
            ],
            [
             0.8888888888888888,
             "#fdca26"
            ],
            [
             1,
             "#f0f921"
            ]
           ]
          },
          "colorway": [
           "#636efa",
           "#EF553B",
           "#00cc96",
           "#ab63fa",
           "#FFA15A",
           "#19d3f3",
           "#FF6692",
           "#B6E880",
           "#FF97FF",
           "#FECB52"
          ],
          "font": {
           "color": "#2a3f5f"
          },
          "geo": {
           "bgcolor": "white",
           "lakecolor": "white",
           "landcolor": "#E5ECF6",
           "showlakes": true,
           "showland": true,
           "subunitcolor": "white"
          },
          "hoverlabel": {
           "align": "left"
          },
          "hovermode": "closest",
          "mapbox": {
           "style": "light"
          },
          "paper_bgcolor": "white",
          "plot_bgcolor": "#E5ECF6",
          "polar": {
           "angularaxis": {
            "gridcolor": "white",
            "linecolor": "white",
            "ticks": ""
           },
           "bgcolor": "#E5ECF6",
           "radialaxis": {
            "gridcolor": "white",
            "linecolor": "white",
            "ticks": ""
           }
          },
          "scene": {
           "xaxis": {
            "backgroundcolor": "#E5ECF6",
            "gridcolor": "white",
            "gridwidth": 2,
            "linecolor": "white",
            "showbackground": true,
            "ticks": "",
            "zerolinecolor": "white"
           },
           "yaxis": {
            "backgroundcolor": "#E5ECF6",
            "gridcolor": "white",
            "gridwidth": 2,
            "linecolor": "white",
            "showbackground": true,
            "ticks": "",
            "zerolinecolor": "white"
           },
           "zaxis": {
            "backgroundcolor": "#E5ECF6",
            "gridcolor": "white",
            "gridwidth": 2,
            "linecolor": "white",
            "showbackground": true,
            "ticks": "",
            "zerolinecolor": "white"
           }
          },
          "shapedefaults": {
           "line": {
            "color": "#2a3f5f"
           }
          },
          "ternary": {
           "aaxis": {
            "gridcolor": "white",
            "linecolor": "white",
            "ticks": ""
           },
           "baxis": {
            "gridcolor": "white",
            "linecolor": "white",
            "ticks": ""
           },
           "bgcolor": "#E5ECF6",
           "caxis": {
            "gridcolor": "white",
            "linecolor": "white",
            "ticks": ""
           }
          },
          "title": {
           "x": 0.05
          },
          "xaxis": {
           "automargin": true,
           "gridcolor": "white",
           "linecolor": "white",
           "ticks": "",
           "title": {
            "standoff": 15
           },
           "zerolinecolor": "white",
           "zerolinewidth": 2
          },
          "yaxis": {
           "automargin": true,
           "gridcolor": "white",
           "linecolor": "white",
           "ticks": "",
           "title": {
            "standoff": 15
           },
           "zerolinecolor": "white",
           "zerolinewidth": 2
          }
         }
        }
       }
      }
     },
     "metadata": {},
     "output_type": "display_data"
    }
   ],
   "source": [
    "fig = px.scatter_3d(df, x='feature1', y='feature2', z='target')\n",
    "fig.add_trace(go.Surface(x = x, y = y, z =z ))\n",
    "fig.show()"
   ]
  },
  {
   "cell_type": "code",
   "execution_count": 33,
   "metadata": {},
   "outputs": [
    {
     "data": {
      "text/plain": [
       "array([-0.09012539, 20.70530778])"
      ]
     },
     "execution_count": 33,
     "metadata": {},
     "output_type": "execute_result"
    }
   ],
   "source": [
    "lr.coef_"
   ]
  },
  {
   "cell_type": "code",
   "execution_count": 34,
   "metadata": {},
   "outputs": [
    {
     "data": {
      "text/plain": [
       "4.346225206858973"
      ]
     },
     "execution_count": 34,
     "metadata": {},
     "output_type": "execute_result"
    }
   ],
   "source": [
    "lr.intercept_"
   ]
  }
 ],
 "metadata": {
  "kernelspec": {
   "display_name": "Python 3",
   "language": "python",
   "name": "python3"
  },
  "language_info": {
   "codemirror_mode": {
    "name": "ipython",
    "version": 3
   },
   "file_extension": ".py",
   "mimetype": "text/x-python",
   "name": "python",
   "nbconvert_exporter": "python",
   "pygments_lexer": "ipython3",
   "version": "3.10.11"
  }
 },
 "nbformat": 4,
 "nbformat_minor": 2
}
